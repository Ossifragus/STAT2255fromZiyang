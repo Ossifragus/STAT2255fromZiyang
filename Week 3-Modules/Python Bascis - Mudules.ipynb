{
 "cells": [
  {
   "cell_type": "markdown",
   "metadata": {},
   "source": [
    "# Modules\n",
    "\n",
    "> Module refers to a .py file that consists of program codes and data which can be reused later. \n",
    "\n",
    "* The name of a module is the name of the file without .py extension.\n",
    "* Each module contains its own namespace (names of variables and function defined inside).\n",
    "* Modules can import other modules to access their variables and functions (add them to the current global name space)."
   ]
  },
  {
   "cell_type": "markdown",
   "metadata": {},
   "source": [
    "## Why Modules?\n",
    "\n",
    "* Code reuse: Save codes we have written before and use it in the future.\n",
    "* Minimizing name clashes.\n",
    "* Sharing with others."
   ]
  },
  {
   "cell_type": "markdown",
   "metadata": {},
   "source": [
    "## How imports work\n",
    "\n",
    "* **Find**: Python search the module file in the paths shown below, from first to last.\n",
    "\n",
    "* **Run**: Once it finds the module file, it runs all the statements in the file from top to bottom."
   ]
  },
  {
   "cell_type": "code",
   "execution_count": 1,
   "metadata": {},
   "outputs": [
    {
     "data": {
      "text/plain": [
       "['/Users/ziyang/Documents/STAT2255/Wang/Week 3',\n",
       " '/opt/anaconda3/lib/python39.zip',\n",
       " '/opt/anaconda3/lib/python3.9',\n",
       " '/opt/anaconda3/lib/python3.9/lib-dynload',\n",
       " '',\n",
       " '/opt/anaconda3/lib/python3.9/site-packages',\n",
       " '/opt/anaconda3/lib/python3.9/site-packages/aeosa',\n",
       " '/opt/anaconda3/lib/python3.9/site-packages/IPython/extensions',\n",
       " '/Users/ziyang/.ipython']"
      ]
     },
     "execution_count": 1,
     "metadata": {},
     "output_type": "execute_result"
    }
   ],
   "source": [
    "import sys\n",
    "sys.path"
   ]
  },
  {
   "cell_type": "markdown",
   "metadata": {},
   "source": [
    "## Variations of import"
   ]
  },
  {
   "cell_type": "markdown",
   "metadata": {},
   "source": [
    "### import\n",
    "\n",
    "```import ModuleName```\n",
    "\n",
    "This imports all the variables defined in ModuleName. To access those variables names (e.g. \"a\" defined in ModuleName), we need to call:\n",
    "\n",
    "```ModuleName.a```"
   ]
  },
  {
   "cell_type": "code",
   "execution_count": 3,
   "metadata": {},
   "outputs": [
    {
     "data": {
      "text/plain": [
       "3.14159265358976"
      ]
     },
     "execution_count": 3,
     "metadata": {},
     "output_type": "execute_result"
    }
   ],
   "source": [
    "import my_function\n",
    "my_function.pi"
   ]
  },
  {
   "cell_type": "markdown",
   "metadata": {},
   "source": [
    "Tired of typing the module names if they are too long? You can use:\n",
    "\n",
    "```import ModuleName as M```\n",
    "\n",
    "Then, you can call variables (e.g. \"a\") define in ModuleName by M.a"
   ]
  },
  {
   "cell_type": "code",
   "execution_count": 9,
   "metadata": {},
   "outputs": [
    {
     "data": {
      "text/plain": [
       "3.14159265358976"
      ]
     },
     "execution_count": 9,
     "metadata": {},
     "output_type": "execute_result"
    }
   ],
   "source": [
    "import my_function as mfnc\n",
    "mfnc.pi"
   ]
  },
  {
   "cell_type": "markdown",
   "metadata": {},
   "source": [
    "### from \n",
    "\n",
    "* Import selected variables(separated by \",\") from module\n",
    "* The imported variables are directly added to the current namespace. Not need to add \"ModuleName.\" in the front. "
   ]
  },
  {
   "cell_type": "code",
   "execution_count": 3,
   "metadata": {},
   "outputs": [],
   "source": [
    "from my_function import func1,pi\n",
    "from modul1 import func1\n",
    "from modul2 import func1"
   ]
  },
  {
   "cell_type": "code",
   "execution_count": 4,
   "metadata": {},
   "outputs": [
    {
     "data": {
      "text/plain": [
       "13"
      ]
     },
     "execution_count": 4,
     "metadata": {},
     "output_type": "execute_result"
    }
   ],
   "source": [
    "func1(5)"
   ]
  },
  {
   "cell_type": "code",
   "execution_count": 5,
   "metadata": {},
   "outputs": [
    {
     "data": {
      "text/plain": [
       "3.14159265358976"
      ]
     },
     "execution_count": 5,
     "metadata": {},
     "output_type": "execute_result"
    }
   ],
   "source": [
    "pi"
   ]
  },
  {
   "cell_type": "markdown",
   "metadata": {},
   "source": [
    "Use * to import all the variables."
   ]
  },
  {
   "cell_type": "code",
   "execution_count": 6,
   "metadata": {},
   "outputs": [],
   "source": [
    "from my_function import *"
   ]
  },
  {
   "cell_type": "code",
   "execution_count": 7,
   "metadata": {},
   "outputs": [
    {
     "data": {
      "text/plain": [
       "24"
      ]
     },
     "execution_count": 7,
     "metadata": {},
     "output_type": "execute_result"
    }
   ],
   "source": [
    "func2(5)"
   ]
  },
  {
   "cell_type": "markdown",
   "metadata": {},
   "source": [
    "Using from statement is more convenient since we do not need to type the package name everytime. However, the catch is it may cause name clashes.\n",
    "\n",
    "For example, if variable \"func1\" is defined in both moduleA and modelB. Then, if you run \n",
    "\n",
    "```from moduleA import func1```\n",
    "\n",
    "```from moduleB import func1```\n",
    "\n",
    "\n",
    "If you call a now, it is going to be the one defined in moduleB since it is the most recent one."
   ]
  },
  {
   "cell_type": "markdown",
   "metadata": {},
   "source": [
    "## install Modules (packages)\n",
    "\n",
    "* ```conda install PackageName```\n",
    "* ```pip install PackageName```"
   ]
  }
 ],
 "metadata": {
  "kernelspec": {
   "display_name": "Python 3 (ipykernel)",
   "language": "python",
   "name": "python3"
  },
  "language_info": {
   "codemirror_mode": {
    "name": "ipython",
    "version": 3
   },
   "file_extension": ".py",
   "mimetype": "text/x-python",
   "name": "python",
   "nbconvert_exporter": "python",
   "pygments_lexer": "ipython3",
   "version": "3.9.7"
  }
 },
 "nbformat": 4,
 "nbformat_minor": 5
}
