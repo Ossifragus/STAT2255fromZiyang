{
 "cells": [
  {
   "cell_type": "markdown",
   "metadata": {},
   "source": [
    "# Statistical Inference\n",
    "\n",
    "> Statistics is a science about collecting, summarizing and making inference from data. Statistical inference involves drawing conclusions about populations from samples.\n",
    "\n",
    "Here, we will focus on two of the most common population parameters:\n",
    "\n",
    "* Population mean $\\mu$: average height of all American; average salary of all Connecticut resideents, and etc.\n",
    "* Population proportion $p$: Proportion of American who support Biden; Proportion of people who have taken vaccine "
   ]
  },
  {
   "cell_type": "markdown",
   "metadata": {},
   "source": [
    "# Hypothesis Testing\n",
    "\n",
    "Sometimes, we may have some preconceived ideas regarding to the unknown population parameters. The sample data we collect can help us decide the plausibility of these ideas and this is accomplished by **Hypothesis Testing**. \n",
    "\n",
    "\n",
    "Hypothesis testing involves drawing inferences about two contrasting propositions (each called a hypothesis) relating to the value of one or more population parameters.\n",
    "\n",
    "* $H_0$ **Null hypothesis**: describes an existing theory or status quo\n",
    "* $H_1$ ($H_a$, or $H_\\alpha$) **Alternative hypothesis**: Usually is our research interest (a challenge or alternative to accepted view).\n",
    "\n",
    "**Note**: Using sample data, we either:\n",
    "* Reject $H_0$ and conclude the sample data is in favor of $H_1$, or\n",
    "* Fail to reject $H_0$ (Note: fail to reject $H_0$ does not mean $H_0$ is true. It only mean there is no sufficient evidence to disprove it with the data we have collect).\n",
    "\n",
    "## How to test?\n",
    "\n",
    "1. **Set up hypotheses**: Statistically, we cannot “prove” that H0 is true. We can only fail to reject it. So, what we want to test (our research of interest) is usually set as alternative hypothesis ($H_1$).\n",
    "\n",
    "\n",
    "2. To conduct a Hypothesis Test, we initially assume that $H_0$ is true. Then, we calculate the chance of observing the sample data under this assumption. This also gives us an idea of whether or not our assumption ($H_0$ is true) is correct and leads us to a decision whether or not reject the null hypothesis.\n",
    "\n",
    "## Intuition (A Legal Analogy for Hypothesis Testing)\n",
    "\n",
    "The idea of hypothesis testing follows close to the idea of proof by contradiction. Here, we use a legal analogy to explain the hypothesis testing:\n",
    "\n",
    "In the U.S. legal system, a defendant is innocent until proven guilty.\n",
    "\n",
    "  *  $H_0$: Innocent\n",
    "    \n",
    "  *  $H_1$: Guilty\n",
    "\n",
    "1. So, we start by assuming the defendant is innocent ($H_0$).\n",
    "\n",
    "2. The sample data we collect can be seen as the evidence. Under the assumption of innocent ($H_0$), what is the chance of getting the evidence (sample data) that we have in hand.\n",
    "\n",
    "    * If the chance is small, then, this means our assumption of innocent is questionable and our evidence is in favor of the alternative guilty ($H_1$).\n",
    "    * If the chance is large, then, this means our data does not provide enough evidence to rule the defendant is guilty. \n",
    "\n",
    "\n",
    "## Type of tests:\n",
    "\n",
    "### One Sample tests\n",
    "\n",
    "Primary interest is on one single population:\n",
    "\n",
    "* 1-sample t test\n",
    "* 1-sample proportion test\n",
    "\n",
    "### Two Sample tests\n",
    "\n",
    "Primary interest is to make comparison between two population:\n",
    "\n",
    "* 2-sample t test\n",
    "* paired t test\n",
    "\n",
    "For the above tests, we are going to use the ```stats``` submodule from library ```statsmodels``` and ```scipy```."
   ]
  },
  {
   "cell_type": "code",
   "execution_count": 2,
   "metadata": {},
   "outputs": [],
   "source": [
    "import scipy.stats as scs\n",
    "import statsmodels.stats.api as sms"
   ]
  },
  {
   "cell_type": "markdown",
   "metadata": {},
   "source": [
    "## One sample tests\n",
    "\n",
    "### 1-sample t test\n",
    "\n",
    "For one sample test for population mean, the hypotheses in general has the following form:\n",
    "$$H_0: \\mu = \\mu_0.$$\n",
    "$$H_1: \\mu > \\mu_0; \\mu < \\mu_0; \\mu \\ne \\mu_0.$$\n",
    "\n",
    "where $\\mu_0$ is the preconceived idea you have ahead of time.\n",
    "\n",
    "We start with the simplest case:\n",
    "\n",
    "* Sample are independent.\n",
    "\n",
    "* We have a large sample size ($\\ge 30$).\n",
    "\n",
    "Under this senario, the appropriate test is 1-sample t test. The function you want to use is ```scs.ttest_1samp```.\n",
    "\n",
    "Example:\n",
    "\n",
    "According to the Food and Nutrition Board of the National Academy of Sciences, the recommended daily allowance (RDA) of calcium for adults is 800 milligrams. You have the data of the daily calcium intake (in mg.) for a sample of people with poverty level incomes. <u>The researchers believe that the mean daily calcium intake for poverty level income people is **below** the recommended 800 mg</u>. Conduct a hypothesis test to test this claim.\n",
    "\n",
    "$$H_0: \\mu = 800.$$\n",
    "$$H_1: \\mu < 800.$$"
   ]
  },
  {
   "cell_type": "code",
   "execution_count": 3,
   "metadata": {},
   "outputs": [
    {
     "data": {
      "text/plain": [
       "(40, 1)"
      ]
     },
     "execution_count": 3,
     "metadata": {},
     "output_type": "execute_result"
    }
   ],
   "source": [
    "import pandas as pd\n",
    "calcium = pd.read_csv(\"calcium.csv\")\n",
    "calcium.shape"
   ]
  },
  {
   "cell_type": "code",
   "execution_count": 4,
   "metadata": {},
   "outputs": [
    {
     "name": "stdout",
     "output_type": "stream",
     "text": [
      "Help on function ttest_1samp in module scipy.stats.stats:\n",
      "\n",
      "ttest_1samp(a, popmean, axis=0, nan_policy='propagate', alternative='two-sided')\n",
      "    Calculate the T-test for the mean of ONE group of scores.\n",
      "    \n",
      "    This is a two-sided test for the null hypothesis that the expected value\n",
      "    (mean) of a sample of independent observations `a` is equal to the given\n",
      "    population mean, `popmean`.\n",
      "    \n",
      "    Parameters\n",
      "    ----------\n",
      "    a : array_like\n",
      "        Sample observation.\n",
      "    popmean : float or array_like\n",
      "        Expected value in null hypothesis. If array_like, then it must have the\n",
      "        same shape as `a` excluding the axis dimension.\n",
      "    axis : int or None, optional\n",
      "        Axis along which to compute test; default is 0. If None, compute over\n",
      "        the whole array `a`.\n",
      "    nan_policy : {'propagate', 'raise', 'omit'}, optional\n",
      "        Defines how to handle when input contains nan.\n",
      "        The following options are available (default is 'propagate'):\n",
      "    \n",
      "          * 'propagate': returns nan\n",
      "          * 'raise': throws an error\n",
      "          * 'omit': performs the calculations ignoring nan values\n",
      "    alternative : {'two-sided', 'less', 'greater'}, optional\n",
      "        Defines the alternative hypothesis.\n",
      "        The following options are available (default is 'two-sided'):\n",
      "    \n",
      "          * 'two-sided'\n",
      "          * 'less': one-sided\n",
      "          * 'greater': one-sided\n",
      "    \n",
      "        .. versionadded:: 1.6.0\n",
      "    \n",
      "    Returns\n",
      "    -------\n",
      "    statistic : float or array\n",
      "        t-statistic.\n",
      "    pvalue : float or array\n",
      "        Two-sided p-value.\n",
      "    \n",
      "    Examples\n",
      "    --------\n",
      "    >>> from scipy import stats\n",
      "    >>> rng = np.random.default_rng()\n",
      "    >>> rvs = stats.norm.rvs(loc=5, scale=10, size=(50, 2), random_state=rng)\n",
      "    \n",
      "    Test if mean of random sample is equal to true mean, and different mean.\n",
      "    We reject the null hypothesis in the second case and don't reject it in\n",
      "    the first case.\n",
      "    \n",
      "    >>> stats.ttest_1samp(rvs, 5.0)\n",
      "    Ttest_1sampResult(statistic=array([-2.09794637, -1.75977004]), pvalue=array([0.04108952, 0.08468867]))\n",
      "    >>> stats.ttest_1samp(rvs, 0.0)\n",
      "    Ttest_1sampResult(statistic=array([1.64495065, 1.62095307]), pvalue=array([0.10638103, 0.11144602]))\n",
      "    \n",
      "    Examples using axis and non-scalar dimension for population mean.\n",
      "    \n",
      "    >>> result = stats.ttest_1samp(rvs, [5.0, 0.0])\n",
      "    >>> result.statistic\n",
      "    array([-2.09794637,  1.62095307])\n",
      "    >>> result.pvalue\n",
      "    array([0.04108952, 0.11144602])\n",
      "    \n",
      "    >>> result = stats.ttest_1samp(rvs.T, [5.0, 0.0], axis=1)\n",
      "    >>> result.statistic\n",
      "    array([-2.09794637,  1.62095307])\n",
      "    >>> result.pvalue\n",
      "    array([0.04108952, 0.11144602])\n",
      "    \n",
      "    >>> result = stats.ttest_1samp(rvs, [[5.0], [0.0]])\n",
      "    >>> result.statistic\n",
      "    array([[-2.09794637, -1.75977004],\n",
      "           [ 1.64495065,  1.62095307]])\n",
      "    >>> result.pvalue\n",
      "    array([[0.04108952, 0.08468867],\n",
      "           [0.10638103, 0.11144602]])\n",
      "\n"
     ]
    }
   ],
   "source": [
    "help(scs.ttest_1samp)"
   ]
  },
  {
   "cell_type": "code",
   "execution_count": 5,
   "metadata": {},
   "outputs": [
    {
     "name": "stdout",
     "output_type": "stream",
     "text": [
      "The test statistics is -3.9953, and the p value is 0.0001.\n"
     ]
    }
   ],
   "source": [
    "import pandas as pd\n",
    "calcium = pd.read_csv(\"calcium.csv\")\n",
    "t_score, p_value = scs.ttest_1samp(calcium, popmean=800, alternative='less') # value is mu_0. Possible values for alternative: 'two-sided';\n",
    "                                                     #                                                 'greater';\n",
    "                                                     #                                                 'less'.\n",
    "print('The test statistics is {}, and the p value is {}.'.format(float(t_score.round(4)), float(p_value.round(4))))"
   ]
  },
  {
   "cell_type": "markdown",
   "metadata": {},
   "source": [
    "### Making decision\n",
    "\n",
    "Now, we need to make a decision whether or not to reject the null hypothesis. The decision depends on the p-value and significance level ($\\alpha$). \n",
    "\n",
    "* The p-value is the probability of obtaining a test statistic value equal to or more extreme than observed when the null hypothesis is true.\n",
    "\n",
    "* The significance level is usually specified ahead of time and common values are: 0.1, 0.05, 0.01.\n",
    "\n",
    "In the end\n",
    "\n",
    "* we reject the null hypothesis, and in favor of the alternative hypothesis if p-value< $\\alpha$.\n",
    "\n",
    "* we fail to reject the null hypothesis if p-value $\\ge\\alpha$. **Remember**, this is not saying $H_0$ is correct.\n",
    "\n",
    "In this case, using $\\alpha = 0.05$, \n",
    "\n",
    "1. We will reject the null hypothesis.\n",
    "2. Conclude that the mean daily calcium intake for poverty level income people is below the recommended level. "
   ]
  },
  {
   "cell_type": "markdown",
   "metadata": {},
   "source": [
    "### small sample case\n",
    "\n",
    "When the sample size is large, we do not need to pose any assumption on the distribution of our data. As long as they are independent, the t test will be valid by the **Central Limit Theorem**. However, it maybe the case that our sample is smaller than 30. Under this case, it is required to check the normal assumption before conducting the t test. \n",
    "\n",
    "### check normality assumption\n",
    "\n",
    "To check whether or not our data are from a normal distribution, we can simply plot the data to see"
   ]
  },
  {
   "cell_type": "markdown",
   "metadata": {},
   "source": [
    "### histogram"
   ]
  },
  {
   "cell_type": "code",
   "execution_count": 7,
   "metadata": {},
   "outputs": [
    {
     "data": {
      "text/plain": [
       "<AxesSubplot:ylabel='Count'>"
      ]
     },
     "execution_count": 7,
     "metadata": {},
     "output_type": "execute_result"
    },
    {
     "data": {
      "image/png": "[encoded data removed]",
      "text/plain": [
       "<Figure size 432x288 with 1 Axes>"
      ]
     },
     "metadata": {
      "needs_background": "light"
     },
     "output_type": "display_data"
    }
   ],
   "source": [
    "data = [58,  67,  63,  65,  59,  57,  51,  64,  59,  54, 65,  56,  59,  58,  62,  64,  55,  59,  61, 55]\n",
    "import seaborn as sns\n",
    "sns.histplot(data, kde=True)"
   ]
  },
  {
   "cell_type": "markdown",
   "metadata": {},
   "source": [
    "### quantile-quantile plot (qq plot)"
   ]
  },
  {
   "cell_type": "code",
   "execution_count": 8,
   "metadata": {},
   "outputs": [
    {
     "data": {
      "image/png": "[encoded data removed]",
      "text/plain": [
       "<Figure size 720x576 with 1 Axes>"
      ]
     },
     "metadata": {
      "needs_background": "light"
     },
     "output_type": "display_data"
    }
   ],
   "source": [
    "import matplotlib.pyplot as plt\n",
    "import statsmodels.api as sm\n",
    "import numpy as np\n",
    "fig = sm.qqplot(np.array(data))\n",
    "fig.set_size_inches(10, 8)"
   ]
  },
  {
   "cell_type": "markdown",
   "metadata": {},
   "source": [
    "### shapiro wilk test\n",
    "\n",
    "The above checkings for normality assumption by visualization are relative subjective. To make it formal, we can use shapiro wilk test to test the normality assumption.\n",
    "\n",
    "$$H_0: \\text{The data is from normal distribution}$$\n",
    "$$H_1: \\text{The data is not from normal distribution}$$"
   ]
  },
  {
   "cell_type": "code",
   "execution_count": 9,
   "metadata": {},
   "outputs": [
    {
     "data": {
      "text/plain": [
       "ShapiroResult(statistic=0.9724048376083374, pvalue=0.8046373724937439)"
      ]
     },
     "execution_count": 9,
     "metadata": {},
     "output_type": "execute_result"
    }
   ],
   "source": [
    "scs.shapiro(data)"
   ]
  },
  {
   "cell_type": "markdown",
   "metadata": {},
   "source": [
    "Use $\\alpha = 0.05$, we can say the normality assumption is appropriate for this data."
   ]
  },
  {
   "cell_type": "markdown",
   "metadata": {},
   "source": [
    "## 1-sample proportion test\n",
    "\n",
    "For one sample test for populationproportion, the hypotheses in general has the following form:\n",
    "$$H_0: p = p_0.$$\n",
    "$$H_1: p > p_0; p < p_0; p \\ne p_0.$$\n",
    "\n",
    "where $p_0$ is the preconceived idea you have ahead of time.\n",
    "\n",
    "We start with the simplest case:\n",
    "\n",
    "* Sample are independent.\n",
    "\n",
    "* $np_0(1-p_0) \\ge 5$\n",
    "\n",
    "Under this senario, the appropriate test is 1-sample proportion test. The function you want to use is ```sms.proportions_ztest```.\n",
    "\n",
    "Example:\n",
    "\n",
    "A recent survey claimed that 45% of college students named \"Pretty Little Liars\" as their favorite of the two shows.  Fans of \"Breaking Bad\" believed that percentage was inflated (<u>that is, these fans believe that the proportion of college students who would say \"Pretty Little Liars\" was their favorite show is actually **less that** 45%</u>). They decided to take a survey of 100 college students.  Each student was asked the question: “Did you prefer ‘Pretty Little Liars’ over \"Breaking Bad\" during the years 2012-2013?\"  Each person could answer either Yes or No. \n",
    "\n",
    "$$H_0: p = 0.45.$$\n",
    "$$H_1: p < 0.45.$$"
   ]
  },
  {
   "cell_type": "code",
   "execution_count": 10,
   "metadata": {},
   "outputs": [],
   "source": [
    "import pandas as pd\n",
    "tv = pd.read_csv('tv.csv')"
   ]
  },
  {
   "cell_type": "code",
   "execution_count": 11,
   "metadata": {},
   "outputs": [
    {
     "data": {
      "text/html": [
       "<div>\n",
       "<style scoped>\n",
       "    .dataframe tbody tr th:only-of-type {\n",
       "        vertical-align: middle;\n",
       "    }\n",
       "\n",
       "    .dataframe tbody tr th {\n",
       "        vertical-align: top;\n",
       "    }\n",
       "\n",
       "    .dataframe thead th {\n",
       "        text-align: right;\n",
       "    }\n",
       "</style>\n",
       "<table border=\"1\" class=\"dataframe\">\n",
       "  <thead>\n",
       "    <tr style=\"text-align: right;\">\n",
       "      <th></th>\n",
       "      <th>ANSWER</th>\n",
       "    </tr>\n",
       "  </thead>\n",
       "  <tbody>\n",
       "    <tr>\n",
       "      <th>0</th>\n",
       "      <td>NO</td>\n",
       "    </tr>\n",
       "    <tr>\n",
       "      <th>1</th>\n",
       "      <td>NO</td>\n",
       "    </tr>\n",
       "    <tr>\n",
       "      <th>2</th>\n",
       "      <td>NO</td>\n",
       "    </tr>\n",
       "    <tr>\n",
       "      <th>3</th>\n",
       "      <td>YES</td>\n",
       "    </tr>\n",
       "    <tr>\n",
       "      <th>4</th>\n",
       "      <td>NO</td>\n",
       "    </tr>\n",
       "  </tbody>\n",
       "</table>\n",
       "</div>"
      ],
      "text/plain": [
       "  ANSWER\n",
       "0    NO \n",
       "1    NO \n",
       "2    NO \n",
       "3    YES\n",
       "4    NO "
      ]
     },
     "execution_count": 11,
     "metadata": {},
     "output_type": "execute_result"
    }
   ],
   "source": [
    "tv.head()"
   ]
  },
  {
   "cell_type": "code",
   "execution_count": 12,
   "metadata": {
    "scrolled": false
   },
   "outputs": [
    {
     "name": "stdout",
     "output_type": "stream",
     "text": [
      "Help on function proportions_ztest in module statsmodels.stats.proportion:\n",
      "\n",
      "proportions_ztest(count, nobs, value=None, alternative='two-sided', prop_var=False)\n",
      "    Test for proportions based on normal (z) test\n",
      "    \n",
      "    Parameters\n",
      "    ----------\n",
      "    count : {int, array_like}\n",
      "        the number of successes in nobs trials. If this is array_like, then\n",
      "        the assumption is that this represents the number of successes for\n",
      "        each independent sample\n",
      "    nobs : {int, array_like}\n",
      "        the number of trials or observations, with the same length as\n",
      "        count.\n",
      "    value : float, array_like or None, optional\n",
      "        This is the value of the null hypothesis equal to the proportion in the\n",
      "        case of a one sample test. In the case of a two-sample test, the\n",
      "        null hypothesis is that prop[0] - prop[1] = value, where prop is the\n",
      "        proportion in the two samples. If not provided value = 0 and the null\n",
      "        is prop[0] = prop[1]\n",
      "    alternative : str in ['two-sided', 'smaller', 'larger']\n",
      "        The alternative hypothesis can be either two-sided or one of the one-\n",
      "        sided tests, smaller means that the alternative hypothesis is\n",
      "        ``prop < value`` and larger means ``prop > value``. In the two sample\n",
      "        test, smaller means that the alternative hypothesis is ``p1 < p2`` and\n",
      "        larger means ``p1 > p2`` where ``p1`` is the proportion of the first\n",
      "        sample and ``p2`` of the second one.\n",
      "    prop_var : False or float in (0, 1)\n",
      "        If prop_var is false, then the variance of the proportion estimate is\n",
      "        calculated based on the sample proportion. Alternatively, a proportion\n",
      "        can be specified to calculate this variance. Common use case is to\n",
      "        use the proportion under the Null hypothesis to specify the variance\n",
      "        of the proportion estimate.\n",
      "    \n",
      "    Returns\n",
      "    -------\n",
      "    zstat : float\n",
      "        test statistic for the z-test\n",
      "    p-value : float\n",
      "        p-value for the z-test\n",
      "    \n",
      "    Examples\n",
      "    --------\n",
      "    >>> count = 5\n",
      "    >>> nobs = 83\n",
      "    >>> value = .05\n",
      "    >>> stat, pval = proportions_ztest(count, nobs, value)\n",
      "    >>> print('{0:0.3f}'.format(pval))\n",
      "    0.695\n",
      "    \n",
      "    >>> import numpy as np\n",
      "    >>> from statsmodels.stats.proportion import proportions_ztest\n",
      "    >>> count = np.array([5, 12])\n",
      "    >>> nobs = np.array([83, 99])\n",
      "    >>> stat, pval = proportions_ztest(count, nobs)\n",
      "    >>> print('{0:0.3f}'.format(pval))\n",
      "    0.159\n",
      "    \n",
      "    Notes\n",
      "    -----\n",
      "    This uses a simple normal test for proportions. It should be the same as\n",
      "    running the mean z-test on the data encoded 1 for event and 0 for no event\n",
      "    so that the sum corresponds to the count.\n",
      "    \n",
      "    In the one and two sample cases with two-sided alternative, this test\n",
      "    produces the same p-value as ``proportions_chisquare``, since the\n",
      "    chisquare is the distribution of the square of a standard normal\n",
      "    distribution.\n",
      "\n"
     ]
    }
   ],
   "source": [
    "help(sms.proportions_ztest)"
   ]
  },
  {
   "cell_type": "code",
   "execution_count": 13,
   "metadata": {},
   "outputs": [
    {
     "data": {
      "text/plain": [
       "ANSWER\n",
       "NO     64\n",
       "YES    36\n",
       "dtype: int64"
      ]
     },
     "execution_count": 13,
     "metadata": {},
     "output_type": "execute_result"
    }
   ],
   "source": [
    "tv.groupby(\"ANSWER\").size()"
   ]
  },
  {
   "cell_type": "code",
   "execution_count": 14,
   "metadata": {},
   "outputs": [
    {
     "data": {
      "text/html": [
       "<div>\n",
       "<style scoped>\n",
       "    .dataframe tbody tr th:only-of-type {\n",
       "        vertical-align: middle;\n",
       "    }\n",
       "\n",
       "    .dataframe tbody tr th {\n",
       "        vertical-align: top;\n",
       "    }\n",
       "\n",
       "    .dataframe thead th {\n",
       "        text-align: right;\n",
       "    }\n",
       "</style>\n",
       "<table border=\"1\" class=\"dataframe\">\n",
       "  <thead>\n",
       "    <tr style=\"text-align: right;\">\n",
       "      <th>col_0</th>\n",
       "      <th>count</th>\n",
       "      <th>All</th>\n",
       "    </tr>\n",
       "    <tr>\n",
       "      <th>ANSWER</th>\n",
       "      <th></th>\n",
       "      <th></th>\n",
       "    </tr>\n",
       "  </thead>\n",
       "  <tbody>\n",
       "    <tr>\n",
       "      <th>NO</th>\n",
       "      <td>64</td>\n",
       "      <td>64</td>\n",
       "    </tr>\n",
       "    <tr>\n",
       "      <th>YES</th>\n",
       "      <td>36</td>\n",
       "      <td>36</td>\n",
       "    </tr>\n",
       "    <tr>\n",
       "      <th>All</th>\n",
       "      <td>100</td>\n",
       "      <td>100</td>\n",
       "    </tr>\n",
       "  </tbody>\n",
       "</table>\n",
       "</div>"
      ],
      "text/plain": [
       "col_0   count  All\n",
       "ANSWER            \n",
       "NO         64   64\n",
       "YES        36   36\n",
       "All       100  100"
      ]
     },
     "execution_count": 14,
     "metadata": {},
     "output_type": "execute_result"
    }
   ],
   "source": [
    "pd.crosstab(index = tv.ANSWER, columns='count', margins=True)"
   ]
  },
  {
   "cell_type": "code",
   "execution_count": 15,
   "metadata": {},
   "outputs": [
    {
     "name": "stdout",
     "output_type": "stream",
     "text": [
      "The test statistics is -3.9953, and the p value is 0.0352.\n"
     ]
    }
   ],
   "source": [
    "z_score, p_value = sms.proportions_ztest(count = 36, nobs = 100, value = 0.45, alternative='smaller', prop_var=0.45)\n",
    "print('The test statistics is {}, and the p value is {}.'.format(float(t_score.round(4)), float(p_value.round(4))))"
   ]
  },
  {
   "cell_type": "markdown",
   "metadata": {},
   "source": [
    "In this case, using $\\alpha = 0.05$, \n",
    "\n",
    "1. We will reject the null hypothesis.\n",
    "2. Conclude that the percentage from the survey is inflated."
   ]
  },
  {
   "cell_type": "markdown",
   "metadata": {},
   "source": [
    "## Two sample tests\n",
    "\n",
    "For two sample test for population mean, the hypotheses in general has the following form:\n",
    "$$H_0: \\mu_1 = \\mu_2.$$\n",
    "$$H_1: \\mu_1 > \\mu_2; \\mu_1 < \\mu_2; \\mu_1 \\ne \\mu_2.$$\n",
    "\n",
    "where $\\mu_1$ and $\\mu_2$ stands for means of population 1 and 2.\n",
    "\n",
    "\n",
    "When\n",
    "\n",
    "* Two population is independent.\n",
    "* Samples are from normal distribution (can be relaxed if sample size $\\ge$30).\n",
    "\n",
    "Under this senario, the appropriate test is 2-sample t test. The function you want to use is ```sms.ttest_ind```.\n",
    "\n",
    "Example:\n",
    "\n",
    "Suppose you suspect that the engineering students will have a higher average SAT math score than Business, and you would like to do a test of hypothesis to check if your suspicions are confirmed.\n",
    "\n",
    "$$H_0: \\mu_1 = \\mu_2.$$\n",
    "$$H_1: \\mu_1 > \\mu_2.$$"
   ]
  },
  {
   "cell_type": "code",
   "execution_count": 16,
   "metadata": {},
   "outputs": [],
   "source": [
    "sat = pd.read_csv(\"mathsat.csv\")"
   ]
  },
  {
   "cell_type": "code",
   "execution_count": 17,
   "metadata": {},
   "outputs": [
    {
     "data": {
      "text/html": [
       "<div>\n",
       "<style scoped>\n",
       "    .dataframe tbody tr th:only-of-type {\n",
       "        vertical-align: middle;\n",
       "    }\n",
       "\n",
       "    .dataframe tbody tr th {\n",
       "        vertical-align: top;\n",
       "    }\n",
       "\n",
       "    .dataframe thead th {\n",
       "        text-align: right;\n",
       "    }\n",
       "</style>\n",
       "<table border=\"1\" class=\"dataframe\">\n",
       "  <thead>\n",
       "    <tr style=\"text-align: right;\">\n",
       "      <th></th>\n",
       "      <th>Engineering</th>\n",
       "      <th>Business</th>\n",
       "    </tr>\n",
       "  </thead>\n",
       "  <tbody>\n",
       "    <tr>\n",
       "      <th>0</th>\n",
       "      <td>735</td>\n",
       "      <td>635.0</td>\n",
       "    </tr>\n",
       "    <tr>\n",
       "      <th>1</th>\n",
       "      <td>609</td>\n",
       "      <td>584.0</td>\n",
       "    </tr>\n",
       "    <tr>\n",
       "      <th>2</th>\n",
       "      <td>464</td>\n",
       "      <td>525.0</td>\n",
       "    </tr>\n",
       "    <tr>\n",
       "      <th>3</th>\n",
       "      <td>587</td>\n",
       "      <td>629.0</td>\n",
       "    </tr>\n",
       "    <tr>\n",
       "      <th>4</th>\n",
       "      <td>628</td>\n",
       "      <td>568.0</td>\n",
       "    </tr>\n",
       "  </tbody>\n",
       "</table>\n",
       "</div>"
      ],
      "text/plain": [
       "   Engineering  Business\n",
       "0          735     635.0\n",
       "1          609     584.0\n",
       "2          464     525.0\n",
       "3          587     629.0\n",
       "4          628     568.0"
      ]
     },
     "execution_count": 17,
     "metadata": {},
     "output_type": "execute_result"
    }
   ],
   "source": [
    "sat.head()"
   ]
  },
  {
   "cell_type": "code",
   "execution_count": 18,
   "metadata": {},
   "outputs": [
    {
     "data": {
      "text/plain": [
       "(28, 2)"
      ]
     },
     "execution_count": 18,
     "metadata": {},
     "output_type": "execute_result"
    }
   ],
   "source": [
    "sat.shape # small sample size"
   ]
  },
  {
   "cell_type": "markdown",
   "metadata": {},
   "source": [
    "### normality check"
   ]
  },
  {
   "cell_type": "code",
   "execution_count": 19,
   "metadata": {},
   "outputs": [
    {
     "data": {
      "text/plain": [
       "ShapiroResult(statistic=0.9728718400001526, pvalue=0.6593040227890015)"
      ]
     },
     "execution_count": 19,
     "metadata": {},
     "output_type": "execute_result"
    }
   ],
   "source": [
    "scs.shapiro(sat.Engineering)"
   ]
  },
  {
   "cell_type": "code",
   "execution_count": 20,
   "metadata": {},
   "outputs": [
    {
     "data": {
      "text/plain": [
       "ShapiroResult(statistic=0.9339435696601868, pvalue=0.14823485910892487)"
      ]
     },
     "execution_count": 20,
     "metadata": {},
     "output_type": "execute_result"
    }
   ],
   "source": [
    "scs.shapiro(sat.Business.dropna())"
   ]
  },
  {
   "cell_type": "code",
   "execution_count": 21,
   "metadata": {},
   "outputs": [
    {
     "data": {
      "text/plain": [
       "0     635.0\n",
       "1     584.0\n",
       "2     525.0\n",
       "3     629.0\n",
       "4     568.0\n",
       "5     586.0\n",
       "6     659.0\n",
       "7     467.0\n",
       "8     542.0\n",
       "9     571.0\n",
       "10    588.0\n",
       "11    578.0\n",
       "12    564.0\n",
       "13    589.0\n",
       "14    430.0\n",
       "15    457.0\n",
       "16    572.0\n",
       "17    588.0\n",
       "18    490.0\n",
       "19    617.0\n",
       "20    591.0\n",
       "21    508.0\n",
       "Name: Business, dtype: float64"
      ]
     },
     "execution_count": 21,
     "metadata": {},
     "output_type": "execute_result"
    }
   ],
   "source": [
    "sat.Business.dropna()"
   ]
  },
  {
   "cell_type": "code",
   "execution_count": 22,
   "metadata": {},
   "outputs": [
    {
     "name": "stdout",
     "output_type": "stream",
     "text": [
      "The test statistics is 1.3004, and the p value is 0.1.\n"
     ]
    }
   ],
   "source": [
    "t_score, p_value, degree_fr = sms.ttest_ind(sat.Engineering, sat.Business.dropna(),\n",
    "                                            alternative='larger', usevar = 'unequal')\n",
    "\n",
    "print('The test statistics is {}, and the p value is {}.'.format(float(t_score.round(4)), float(p_value.round(4))))"
   ]
  },
  {
   "cell_type": "markdown",
   "metadata": {},
   "source": [
    "### Decision\n",
    "\n",
    "In this case, using $\\alpha = 0.05$, \n",
    "\n",
    "1. We fail reject the null hypothesis.\n",
    "2. Conclude that there is no enough evidence to support the claim that engineering students will have a higher average SAT math score. "
   ]
  },
  {
   "cell_type": "markdown",
   "metadata": {},
   "source": [
    "## two sample test for dependent population\n",
    "\n",
    "Sometime, we want to compare two population that are dependent. For example, the performance of a student before and after some study session; reaction time for left and right hand, and etc. \n",
    "\n",
    "In this case, the appropriate test is the paired t-test. The hypotheses take the general form:\n",
    "\n",
    "$$H_0: \\mu_1 = \\mu_2.$$\n",
    "$$H_1: \\mu_1 > \\mu_2; \\mu_1 < \\mu_2; \\mu_1 \\ne \\mu_2.$$\n",
    "\n",
    "Because of the unique feature of the data (data comes in pair), conducting the paired t test is equivalent to test:\n",
    "\n",
    "$$H_0: d = 0$$\n",
    "$$H_1: d>0; d<0; d\\ne0.$$\n",
    "where $d = \\mu_1 - \\mu_2$. Notice that the different is independent. So, we have a 1-sample problem and this test can be done using 1-sample t test.\n",
    "\n",
    "Example:\n",
    "\n",
    "Many students take a course which is advertised to boost scores on the LSAT.  <u>The agency that teaches the course claims the course is an **effective** way to raise scores on the LSAT</u>.  To test this claim, a group of students are given the LSAT and their scores are recorded.  They then attend the course for 5 weeks and retake the exam.  Their scores are recorded again.  \n",
    "\n",
    "$$H_0: \\mu_1 = \\mu_2 \\text{ or } d = 0$$\n",
    "$$H_1: \\mu_1 < \\mu_2\\text{ or } d < 0.$$"
   ]
  },
  {
   "cell_type": "code",
   "execution_count": 23,
   "metadata": {},
   "outputs": [],
   "source": [
    "lsat = pd.read_csv('lsat.csv')"
   ]
  },
  {
   "cell_type": "code",
   "execution_count": 24,
   "metadata": {},
   "outputs": [
    {
     "data": {
      "text/html": [
       "<div>\n",
       "<style scoped>\n",
       "    .dataframe tbody tr th:only-of-type {\n",
       "        vertical-align: middle;\n",
       "    }\n",
       "\n",
       "    .dataframe tbody tr th {\n",
       "        vertical-align: top;\n",
       "    }\n",
       "\n",
       "    .dataframe thead th {\n",
       "        text-align: right;\n",
       "    }\n",
       "</style>\n",
       "<table border=\"1\" class=\"dataframe\">\n",
       "  <thead>\n",
       "    <tr style=\"text-align: right;\">\n",
       "      <th></th>\n",
       "      <th>POSTSCORE</th>\n",
       "      <th>PRESCORE</th>\n",
       "    </tr>\n",
       "  </thead>\n",
       "  <tbody>\n",
       "    <tr>\n",
       "      <th>0</th>\n",
       "      <td>146</td>\n",
       "      <td>148</td>\n",
       "    </tr>\n",
       "    <tr>\n",
       "      <th>1</th>\n",
       "      <td>165</td>\n",
       "      <td>140</td>\n",
       "    </tr>\n",
       "    <tr>\n",
       "      <th>2</th>\n",
       "      <td>132</td>\n",
       "      <td>140</td>\n",
       "    </tr>\n",
       "    <tr>\n",
       "      <th>3</th>\n",
       "      <td>165</td>\n",
       "      <td>148</td>\n",
       "    </tr>\n",
       "    <tr>\n",
       "      <th>4</th>\n",
       "      <td>152</td>\n",
       "      <td>157</td>\n",
       "    </tr>\n",
       "  </tbody>\n",
       "</table>\n",
       "</div>"
      ],
      "text/plain": [
       "   POSTSCORE  PRESCORE\n",
       "0        146       148\n",
       "1        165       140\n",
       "2        132       140\n",
       "3        165       148\n",
       "4        152       157"
      ]
     },
     "execution_count": 24,
     "metadata": {},
     "output_type": "execute_result"
    }
   ],
   "source": [
    "lsat.head()"
   ]
  },
  {
   "cell_type": "code",
   "execution_count": 25,
   "metadata": {},
   "outputs": [],
   "source": [
    "diff = lsat.PRESCORE - lsat.POSTSCORE"
   ]
  },
  {
   "cell_type": "code",
   "execution_count": 26,
   "metadata": {},
   "outputs": [
    {
     "data": {
      "text/plain": [
       "ShapiroResult(statistic=0.9714736938476562, pvalue=0.5802393555641174)"
      ]
     },
     "execution_count": 26,
     "metadata": {},
     "output_type": "execute_result"
    }
   ],
   "source": [
    "scs.shapiro(diff)"
   ]
  },
  {
   "cell_type": "code",
   "execution_count": 27,
   "metadata": {},
   "outputs": [
    {
     "name": "stdout",
     "output_type": "stream",
     "text": [
      "The test statistics is -1.7289, and the p value is 0.0472.\n"
     ]
    }
   ],
   "source": [
    "t_score, p_value = scs.ttest_1samp(diff, popmean=0, alternative='less') # value is mu_0. Possible values for alternative: 'two-sided';\n",
    "                                                     #                                                 'greater';\n",
    "                                                     #                                                 'less'.\n",
    "print('The test statistics is {}, and the p value is {}.'.format(float(t_score.round(4)), float(p_value.round(4))))"
   ]
  },
  {
   "cell_type": "markdown",
   "metadata": {},
   "source": [
    "### Decision\n",
    "\n",
    "In this case, using $\\alpha = 0.05$, \n",
    "\n",
    "1. We reject the null hypothesis.\n",
    "2. Conclude that the course is effective."
   ]
  }
 ],
 "metadata": {
  "kernelspec": {
   "display_name": "Python 3 (ipykernel)",
   "language": "python",
   "name": "python3"
  },
  "language_info": {
   "codemirror_mode": {
    "name": "ipython",
    "version": 3
   },
   "file_extension": ".py",
   "mimetype": "text/x-python",
   "name": "python",
   "nbconvert_exporter": "python",
   "pygments_lexer": "ipython3",
   "version": "3.9.7"
  }
 },
 "nbformat": 4,
 "nbformat_minor": 5
}
