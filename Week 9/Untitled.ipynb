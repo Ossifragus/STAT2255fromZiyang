{
 "cells": [
  {
   "cell_type": "markdown",
   "id": "eaf7b4bb",
   "metadata": {},
   "source": [
    "## Bisection"
   ]
  },
  {
   "cell_type": "code",
   "execution_count": 3,
   "id": "d389325b",
   "metadata": {},
   "outputs": [],
   "source": [
    "import numpy as np"
   ]
  },
  {
   "cell_type": "code",
   "execution_count": 1,
   "id": "b20bc559",
   "metadata": {},
   "outputs": [],
   "source": [
    "def bisection1(f, a, b, eps = 10**(-7), max_iter = 100):\n",
    "    counter = 0\n",
    "    while counter < max_iter:\n",
    "        m = (a+b)/2\n",
    "        fm = f(m)\n",
    "        if abs(fm) <= eps:\n",
    "            return m\n",
    "        if f(a)*fm < 0:\n",
    "            b = m\n",
    "        else:\n",
    "            a = m\n",
    "        counter += 1\n",
    "    print(\"Fail to converge\")"
   ]
  },
  {
   "cell_type": "code",
   "execution_count": 7,
   "id": "2b330eed",
   "metadata": {},
   "outputs": [],
   "source": [
    "def bisection2(f, a, b, eps = 10**(-7), max_iter = 100):\n",
    "    m = (a+b)/2\n",
    "    fm = f(m)\n",
    "    counter = 0\n",
    "    while abs(fm) > eps and counter < max_iter:\n",
    "        if f(a)*fm < 0:\n",
    "            b = m\n",
    "        else:\n",
    "            a = m\n",
    "        m = (a+b)/2\n",
    "        fm = f(m)\n",
    "        counter += 1\n",
    "    if counter == max_iter:\n",
    "        print(\"Fail to converge\")\n",
    "        return None\n",
    "    else:\n",
    "        return m"
   ]
  },
  {
   "cell_type": "code",
   "execution_count": 4,
   "id": "1db0e738",
   "metadata": {},
   "outputs": [],
   "source": [
    "def f1(x):\n",
    "    return (np.cos(x) - x + 6)"
   ]
  },
  {
   "cell_type": "code",
   "execution_count": 17,
   "id": "213468c5",
   "metadata": {},
   "outputs": [
    {
     "data": {
      "text/plain": [
       "6.845841288566589"
      ]
     },
     "execution_count": 17,
     "metadata": {},
     "output_type": "execute_result"
    }
   ],
   "source": [
    "bisection2(f1, 6, 8, max_iter=30)"
   ]
  },
  {
   "cell_type": "code",
   "execution_count": null,
   "id": "2bd92998",
   "metadata": {},
   "outputs": [],
   "source": [
    "def bisection3(f, a, b, eps):\n",
    "    m = (a+b)/2\n",
    "    if abs(f(m)) <= eps:\n",
    "        return m\n",
    "    if f(a)*f(m) < 0:\n",
    "        return (bisection(f, a, m, eps))\n",
    "    else:\n",
    "        return (bisection(f, m, b, eps))"
   ]
  },
  {
   "cell_type": "markdown",
   "id": "0a8a8bb4",
   "metadata": {},
   "source": [
    "## Newton"
   ]
  },
  {
   "cell_type": "code",
   "execution_count": null,
   "id": "0df276ee",
   "metadata": {},
   "outputs": [],
   "source": [
    "def newton(f, f_prime, init, eps = 10**(-7), max_iter = 100):\n",
    "    counter = 0\n",
    "    x_old = init\n",
    "    while i < max_iter:\n",
    "        x_new = x_old - f(x_old)/f_prime(x_old)\n",
    "        if abs(x_new-x_old) <= eps:\n",
    "            return (x_new)\n",
    "        x_old = x_new\n",
    "        counter += 1\n",
    "    print(\"Fail to converge\")"
   ]
  },
  {
   "cell_type": "code",
   "execution_count": null,
   "id": "1c271121",
   "metadata": {},
   "outputs": [],
   "source": [
    "def f1_prime(x):\n",
    "    h = 10**(-8)\n",
    "    return((f1(x+h)-f1(x))/h)"
   ]
  },
  {
   "cell_type": "code",
   "execution_count": null,
   "id": "1a6732ad",
   "metadata": {},
   "outputs": [],
   "source": [
    "def f2_prime(x):\n",
    "    h = 10**(-8)\n",
    "    return((f2(x+h)-f2(x))/h)"
   ]
  },
  {
   "cell_type": "code",
   "execution_count": null,
   "id": "d475903d",
   "metadata": {},
   "outputs": [],
   "source": []
  },
  {
   "cell_type": "code",
   "execution_count": null,
   "id": "11e65371",
   "metadata": {},
   "outputs": [],
   "source": []
  },
  {
   "cell_type": "markdown",
   "id": "a316b7db",
   "metadata": {},
   "source": [
    "## Fixed Point"
   ]
  },
  {
   "cell_type": "code",
   "execution_count": null,
   "id": "d045eae7",
   "metadata": {},
   "outputs": [],
   "source": [
    "def fixed_point(f, init, alpha, eps = 10**(-7), max_iter = 10000):\n",
    "    i = 0\n",
    "    x_old = init\n",
    "    while i < max_iter:\n",
    "        x_new = x_old + alpha*f(x_old)\n",
    "        if abs(x_new-x_old) <= eps:\n",
    "            return (i)\n",
    "        x_old = x_new\n",
    "        i += 1\n",
    "    print(\"Fail to converge\")"
   ]
  },
  {
   "cell_type": "code",
   "execution_count": null,
   "id": "45f238bf",
   "metadata": {},
   "outputs": [],
   "source": []
  },
  {
   "cell_type": "code",
   "execution_count": null,
   "id": "41c97201",
   "metadata": {},
   "outputs": [],
   "source": []
  }
 ],
 "metadata": {
  "kernelspec": {
   "display_name": "Python 3 (ipykernel)",
   "language": "python",
   "name": "python3"
  },
  "language_info": {
   "codemirror_mode": {
    "name": "ipython",
    "version": 3
   },
   "file_extension": ".py",
   "mimetype": "text/x-python",
   "name": "python",
   "nbconvert_exporter": "python",
   "pygments_lexer": "ipython3",
   "version": "3.9.7"
  }
 },
 "nbformat": 4,
 "nbformat_minor": 5
}
