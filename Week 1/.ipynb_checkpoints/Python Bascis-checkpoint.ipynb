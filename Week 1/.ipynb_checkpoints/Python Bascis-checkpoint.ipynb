{
 "cells": [
  {
   "cell_type": "markdown",
   "id": "8a10d844",
   "metadata": {},
   "source": [
    "# Overall Picture \n",
    "```\n",
    "Programs                           \n",
    " └──Modules                                                     \n",
    "     └──Statements                                \n",
    "         └──Expressions\n",
    "```"
   ]
  },
  {
   "cell_type": "markdown",
   "id": "dc4c6c14",
   "metadata": {},
   "source": [
    "# Expressions and Evaluation\n",
    "\n",
    "Expressions create and process objects. In an informal sense, \n",
    ">\"we do **things** with **stuffs**\""
   ]
  },
  {
   "cell_type": "code",
   "execution_count": null,
   "id": "9c51af92",
   "metadata": {},
   "outputs": [],
   "source": [
    "2 + 2"
   ]
  },
  {
   "cell_type": "markdown",
   "id": "3fc422f7",
   "metadata": {},
   "source": [
    "* “Things” take the form of **operations** such as addition and concatenation.\n",
    "* “Stuffs” refer to the **objects** on which we perform those operations.\n",
    "* Expressions get evaluated and produce a value (object)."
   ]
  },
  {
   "cell_type": "markdown",
   "id": "b5a24046",
   "metadata": {},
   "source": [
    "> everything is an **object** in a Python script.\n",
    "\n",
    "Objects are essentially just pieces of memory, with values and sets of associated oper- ations."
   ]
  },
  {
   "cell_type": "markdown",
   "id": "cbd83e71",
   "metadata": {},
   "source": [
    "# Object Types\n",
    "\n",
    "Here we go over Python's core date types. Although this is not complete because everything we process in Python programs is a kind of object, they will suffice for our course."
   ]
  },
  {
   "cell_type": "markdown",
   "id": "697eeaec",
   "metadata": {},
   "source": [
    "## Numbers\n",
    "\n",
    "* integers\n",
    "* floating-point numbers\n",
    "* complex numbers"
   ]
  },
  {
   "cell_type": "code",
   "execution_count": 6,
   "id": "d20c8267",
   "metadata": {},
   "outputs": [
    {
     "data": {
      "text/plain": [
       "465"
      ]
     },
     "execution_count": 6,
     "metadata": {},
     "output_type": "execute_result"
    }
   ],
   "source": [
    "365 + 100"
   ]
  },
  {
   "cell_type": "code",
   "execution_count": 7,
   "id": "1800b74f",
   "metadata": {},
   "outputs": [
    {
     "data": {
      "text/plain": [
       "16.5"
      ]
     },
     "execution_count": 7,
     "metadata": {},
     "output_type": "execute_result"
    }
   ],
   "source": [
    "3.3 * 5"
   ]
  },
  {
   "cell_type": "code",
   "execution_count": 8,
   "id": "7e7d2be9",
   "metadata": {
    "slideshow": {
     "slide_type": "-"
    }
   },
   "outputs": [
    {
     "data": {
      "text/plain": [
       "complex"
      ]
     },
     "execution_count": 8,
     "metadata": {},
     "output_type": "execute_result"
    }
   ],
   "source": [
    "type(1 + 3j)"
   ]
  },
  {
   "cell_type": "code",
   "execution_count": null,
   "id": "a98d52c7",
   "metadata": {},
   "outputs": [],
   "source": [
    "4**2 # ** are used for exponentiation."
   ]
  },
  {
   "cell_type": "markdown",
   "id": "fcf79061",
   "metadata": {},
   "source": [
    "More from the **math** modules. \n",
    "\n",
    "> **modules** are just packages of additional tools that we import to use."
   ]
  },
  {
   "cell_type": "code",
   "execution_count": 10,
   "id": "9a44a9f9",
   "metadata": {},
   "outputs": [],
   "source": [
    "import math"
   ]
  },
  {
   "cell_type": "code",
   "execution_count": 11,
   "id": "62a5cda2",
   "metadata": {},
   "outputs": [
    {
     "data": {
      "text/plain": [
       "3.141592653589793"
      ]
     },
     "execution_count": 11,
     "metadata": {},
     "output_type": "execute_result"
    }
   ],
   "source": [
    "math.pi"
   ]
  },
  {
   "cell_type": "code",
   "execution_count": 13,
   "id": "4c088ad3",
   "metadata": {},
   "outputs": [
    {
     "data": {
      "text/plain": [
       "2.718281828459045"
      ]
     },
     "execution_count": 13,
     "metadata": {},
     "output_type": "execute_result"
    }
   ],
   "source": [
    "math.exp(1)"
   ]
  },
  {
   "cell_type": "code",
   "execution_count": 14,
   "id": "bdacfdea",
   "metadata": {},
   "outputs": [
    {
     "data": {
      "text/plain": [
       "1.4142135623730951"
      ]
     },
     "execution_count": 14,
     "metadata": {},
     "output_type": "execute_result"
    }
   ],
   "source": [
    "math.sqrt(2)"
   ]
  },
  {
   "cell_type": "markdown",
   "id": "9a5de282",
   "metadata": {},
   "source": [
    "## Strings\n",
    "\n",
    "* Strings are used to record both textual information.\n",
    "* strings are sequences of one-character strings.\n",
    "* They are our first example of what in Python we call a **sequence**—a positionally ordered collection of other objects. \n",
    "* Their items are stored and fetched by their relative positions"
   ]
  },
  {
   "cell_type": "code",
   "execution_count": 16,
   "id": "aad77a69",
   "metadata": {},
   "outputs": [
    {
     "data": {
      "text/plain": [
       "'Hello'"
      ]
     },
     "execution_count": 16,
     "metadata": {},
     "output_type": "execute_result"
    }
   ],
   "source": [
    "\"Hello\""
   ]
  },
  {
   "cell_type": "code",
   "execution_count": 17,
   "id": "793abfec",
   "metadata": {},
   "outputs": [
    {
     "data": {
      "text/plain": [
       "'world'"
      ]
     },
     "execution_count": 17,
     "metadata": {},
     "output_type": "execute_result"
    }
   ],
   "source": [
    "'world'"
   ]
  },
  {
   "cell_type": "code",
   "execution_count": 23,
   "id": "af8e9612",
   "metadata": {},
   "outputs": [],
   "source": [
    "S = 'Python'"
   ]
  },
  {
   "cell_type": "markdown",
   "id": "fe5ae398",
   "metadata": {},
   "source": [
    "The above is an assignment statement that assigns string 'Python' to variable named 'S'. We will talk more about statement later. The equals sign is doing something (assignment) rather than describing something (equality). \n",
    "\n",
    "The right side of = is an expression that gets evaluated first. Only later does the assignment happen. If the left side of the assignment is a variable name that already exist, it is overwritten. If it doesn’t already exist, it is created."
   ]
  },
  {
   "cell_type": "markdown",
   "id": "a6400296",
   "metadata": {},
   "source": [
    "### Sequence Operation\n",
    "#### Indexing"
   ]
  },
  {
   "cell_type": "code",
   "execution_count": 25,
   "id": "a8eaee95",
   "metadata": {},
   "outputs": [
    {
     "data": {
      "text/plain": [
       "6"
      ]
     },
     "execution_count": 25,
     "metadata": {},
     "output_type": "execute_result"
    }
   ],
   "source": [
    "len(S) # length of S"
   ]
  },
  {
   "cell_type": "code",
   "execution_count": 26,
   "id": "048a3adb",
   "metadata": {},
   "outputs": [
    {
     "data": {
      "text/plain": [
       "'P'"
      ]
     },
     "execution_count": 26,
     "metadata": {},
     "output_type": "execute_result"
    }
   ],
   "source": [
    "S[0] # String indexing in Python is zero-based"
   ]
  },
  {
   "cell_type": "code",
   "execution_count": 27,
   "id": "17f4808a",
   "metadata": {},
   "outputs": [
    {
     "data": {
      "text/plain": [
       "'t'"
      ]
     },
     "execution_count": 27,
     "metadata": {},
     "output_type": "execute_result"
    }
   ],
   "source": [
    "S[2]"
   ]
  },
  {
   "cell_type": "markdown",
   "id": "68873975",
   "metadata": {},
   "source": [
    "Negative indices count backwards from the end of the list"
   ]
  },
  {
   "cell_type": "code",
   "execution_count": 28,
   "id": "d1a5b635",
   "metadata": {},
   "outputs": [
    {
     "data": {
      "text/plain": [
       "'n'"
      ]
     },
     "execution_count": 28,
     "metadata": {},
     "output_type": "execute_result"
    }
   ],
   "source": [
    "S[-1] # The last item from S"
   ]
  },
  {
   "cell_type": "code",
   "execution_count": 29,
   "id": "dd86141a",
   "metadata": {},
   "outputs": [
    {
     "data": {
      "text/plain": [
       "'o'"
      ]
     },
     "execution_count": 29,
     "metadata": {},
     "output_type": "execute_result"
    }
   ],
   "source": [
    "S[-2]# The second last item from S"
   ]
  },
  {
   "cell_type": "markdown",
   "id": "c4de7255",
   "metadata": {},
   "source": [
    "<img src=\"python-string.png\"\n",
    "     align=\"left\"\n",
    "     width = 500/>"
   ]
  },
  {
   "cell_type": "markdown",
   "id": "d5d074c8",
   "metadata": {},
   "source": [
    "To fetch multiple items, the general form is `S[I:J]`, which will give us items from the (I+1)th position up to but **not** including the (J+1)th position, so from (I+1)th to J.\n"
   ]
  },
  {
   "cell_type": "code",
   "execution_count": 31,
   "id": "8777106f",
   "metadata": {},
   "outputs": [
    {
     "data": {
      "text/plain": [
       "'tho'"
      ]
     },
     "execution_count": 31,
     "metadata": {},
     "output_type": "execute_result"
    }
   ],
   "source": [
    "S[2:5] # give us from 3th to 5th"
   ]
  },
  {
   "cell_type": "code",
   "execution_count": 32,
   "id": "a859ea84",
   "metadata": {},
   "outputs": [
    {
     "data": {
      "text/plain": [
       "'ython'"
      ]
     },
     "execution_count": 32,
     "metadata": {},
     "output_type": "execute_result"
    }
   ],
   "source": [
    "S[1:] # from 2nd to the last"
   ]
  },
  {
   "cell_type": "code",
   "execution_count": 33,
   "id": "84a94de5",
   "metadata": {},
   "outputs": [
    {
     "data": {
      "text/plain": [
       "'Pyth'"
      ]
     },
     "execution_count": 33,
     "metadata": {},
     "output_type": "execute_result"
    }
   ],
   "source": [
    "S[:4] # same as S[0:4], from the beginning up to 4th"
   ]
  },
  {
   "cell_type": "code",
   "execution_count": 34,
   "id": "8548ebd0",
   "metadata": {},
   "outputs": [
    {
     "data": {
      "text/plain": [
       "'Pytho'"
      ]
     },
     "execution_count": 34,
     "metadata": {},
     "output_type": "execute_result"
    }
   ],
   "source": [
    "S[:-1] # Everything but the last"
   ]
  },
  {
   "cell_type": "code",
   "execution_count": 35,
   "id": "5128be7f",
   "metadata": {},
   "outputs": [
    {
     "data": {
      "text/plain": [
       "'Pto'"
      ]
     },
     "execution_count": 35,
     "metadata": {},
     "output_type": "execute_result"
    }
   ],
   "source": [
    "S[::2] # from the beginning to the end with step of 2"
   ]
  },
  {
   "cell_type": "code",
   "execution_count": 36,
   "id": "8fe8bc18",
   "metadata": {},
   "outputs": [
    {
     "data": {
      "text/plain": [
       "'nt'"
      ]
     },
     "execution_count": 36,
     "metadata": {},
     "output_type": "execute_result"
    }
   ],
   "source": [
    "S[::-3] # from the end to the beginning with step of 3"
   ]
  },
  {
   "cell_type": "markdown",
   "id": "2507818b",
   "metadata": {},
   "source": [
    "#### concatenation"
   ]
  },
  {
   "cell_type": "code",
   "execution_count": 37,
   "id": "7156f5b9",
   "metadata": {},
   "outputs": [
    {
     "data": {
      "text/plain": [
       "'Helloworld'"
      ]
     },
     "execution_count": 37,
     "metadata": {},
     "output_type": "execute_result"
    }
   ],
   "source": [
    "'Hello' + 'world'"
   ]
  },
  {
   "cell_type": "code",
   "execution_count": 38,
   "id": "a78fa3cc",
   "metadata": {},
   "outputs": [
    {
     "data": {
      "text/plain": [
       "'Pythonxyz'"
      ]
     },
     "execution_count": 38,
     "metadata": {},
     "output_type": "execute_result"
    }
   ],
   "source": [
    "S + 'xyz'"
   ]
  },
  {
   "cell_type": "markdown",
   "id": "0d57b074",
   "metadata": {},
   "source": [
    "#### repetition"
   ]
  },
  {
   "cell_type": "code",
   "execution_count": 39,
   "id": "5e2b442e",
   "metadata": {},
   "outputs": [
    {
     "data": {
      "text/plain": [
       "'HelloHelloHelloHello'"
      ]
     },
     "execution_count": 39,
     "metadata": {},
     "output_type": "execute_result"
    }
   ],
   "source": [
    "'Hello'*4"
   ]
  },
  {
   "cell_type": "markdown",
   "id": "681cfc57",
   "metadata": {},
   "source": [
    "> Notice the '+' and '*' mean different things for different objects. This is called **polymorphism**, which is the meaning of an operation depends on the objects being operated upon. "
   ]
  },
  {
   "cell_type": "markdown",
   "id": "d6869502",
   "metadata": {},
   "source": [
    "Those string operations (indexing, concatenation and repetition) we have seen so far is really **sequence operation**, that is they also work on other sequences in Python as well, including **lists** and **tuples**.\n"
   ]
  },
  {
   "cell_type": "markdown",
   "id": "d7e723a1",
   "metadata": {},
   "source": [
    "### string type specific operations"
   ]
  },
  {
   "cell_type": "code",
   "execution_count": 41,
   "id": "c3f76603",
   "metadata": {},
   "outputs": [
    {
     "data": {
      "text/plain": [
       "1"
      ]
     },
     "execution_count": 41,
     "metadata": {},
     "output_type": "execute_result"
    }
   ],
   "source": [
    "S.find(\"y\") # find index of y"
   ]
  },
  {
   "cell_type": "code",
   "execution_count": 44,
   "id": "d41dc2ca",
   "metadata": {},
   "outputs": [
    {
     "data": {
      "text/plain": [
       "'Pyhton'"
      ]
     },
     "execution_count": 44,
     "metadata": {},
     "output_type": "execute_result"
    }
   ],
   "source": [
    "S.replace('th', 'ht')"
   ]
  },
  {
   "cell_type": "code",
   "execution_count": 45,
   "id": "eddf8107",
   "metadata": {},
   "outputs": [
    {
     "data": {
      "text/plain": [
       "'Python'"
      ]
     },
     "execution_count": 45,
     "metadata": {},
     "output_type": "execute_result"
    }
   ],
   "source": [
    "S"
   ]
  },
  {
   "cell_type": "markdown",
   "id": "53abd198",
   "metadata": {},
   "source": [
    "> Notice the original string S was not changed. The `.replace` operation just create new string as result. This is because the string is immutable, which we will talk about later."
   ]
  },
  {
   "cell_type": "code",
   "execution_count": 46,
   "id": "7ecead22",
   "metadata": {},
   "outputs": [
    {
     "data": {
      "text/plain": [
       "['aaa', 'bbb', 'sss']"
      ]
     },
     "execution_count": 46,
     "metadata": {},
     "output_type": "execute_result"
    }
   ],
   "source": [
    "line = 'aaa,bbb,sss'\n",
    "line.split(\",\") # Split on a delimiter into a list of substrings"
   ]
  },
  {
   "cell_type": "code",
   "execution_count": 47,
   "id": "679e4ab2",
   "metadata": {},
   "outputs": [
    {
     "data": {
      "text/plain": [
       "'PYTHON'"
      ]
     },
     "execution_count": 47,
     "metadata": {},
     "output_type": "execute_result"
    }
   ],
   "source": [
    "S.upper() # Upper- and lowercase conversions"
   ]
  },
  {
   "cell_type": "code",
   "execution_count": 48,
   "id": "e29618b5",
   "metadata": {},
   "outputs": [
    {
     "data": {
      "text/plain": [
       "'aaa,bbb,ccccc,dd'"
      ]
     },
     "execution_count": 48,
     "metadata": {},
     "output_type": "execute_result"
    }
   ],
   "source": [
    "line = 'aaa,bbb,ccccc,dd\\n'\n",
    "line.rstrip() # Remove whitespace characters on the right side"
   ]
  },
  {
   "cell_type": "markdown",
   "id": "921c8d9d",
   "metadata": {},
   "source": [
    "There are many more yet to be covered. Use `dir(S)` to see all the attributes and functions for object type associated with variable S (string) here. "
   ]
  },
  {
   "cell_type": "code",
   "execution_count": 49,
   "id": "6c782e93",
   "metadata": {
    "scrolled": true
   },
   "outputs": [
    {
     "data": {
      "text/plain": [
       "['__add__',\n",
       " '__class__',\n",
       " '__contains__',\n",
       " '__delattr__',\n",
       " '__dir__',\n",
       " '__doc__',\n",
       " '__eq__',\n",
       " '__format__',\n",
       " '__ge__',\n",
       " '__getattribute__',\n",
       " '__getitem__',\n",
       " '__getnewargs__',\n",
       " '__gt__',\n",
       " '__hash__',\n",
       " '__init__',\n",
       " '__init_subclass__',\n",
       " '__iter__',\n",
       " '__le__',\n",
       " '__len__',\n",
       " '__lt__',\n",
       " '__mod__',\n",
       " '__mul__',\n",
       " '__ne__',\n",
       " '__new__',\n",
       " '__reduce__',\n",
       " '__reduce_ex__',\n",
       " '__repr__',\n",
       " '__rmod__',\n",
       " '__rmul__',\n",
       " '__setattr__',\n",
       " '__sizeof__',\n",
       " '__str__',\n",
       " '__subclasshook__',\n",
       " 'capitalize',\n",
       " 'casefold',\n",
       " 'center',\n",
       " 'count',\n",
       " 'encode',\n",
       " 'endswith',\n",
       " 'expandtabs',\n",
       " 'find',\n",
       " 'format',\n",
       " 'format_map',\n",
       " 'index',\n",
       " 'isalnum',\n",
       " 'isalpha',\n",
       " 'isascii',\n",
       " 'isdecimal',\n",
       " 'isdigit',\n",
       " 'isidentifier',\n",
       " 'islower',\n",
       " 'isnumeric',\n",
       " 'isprintable',\n",
       " 'isspace',\n",
       " 'istitle',\n",
       " 'isupper',\n",
       " 'join',\n",
       " 'ljust',\n",
       " 'lower',\n",
       " 'lstrip',\n",
       " 'maketrans',\n",
       " 'partition',\n",
       " 'removeprefix',\n",
       " 'removesuffix',\n",
       " 'replace',\n",
       " 'rfind',\n",
       " 'rindex',\n",
       " 'rjust',\n",
       " 'rpartition',\n",
       " 'rsplit',\n",
       " 'rstrip',\n",
       " 'split',\n",
       " 'splitlines',\n",
       " 'startswith',\n",
       " 'strip',\n",
       " 'swapcase',\n",
       " 'title',\n",
       " 'translate',\n",
       " 'upper',\n",
       " 'zfill']"
      ]
     },
     "execution_count": 49,
     "metadata": {},
     "output_type": "execute_result"
    }
   ],
   "source": [
    "dir(S)"
   ]
  },
  {
   "cell_type": "code",
   "execution_count": 50,
   "id": "7a25849c",
   "metadata": {},
   "outputs": [
    {
     "name": "stdout",
     "output_type": "stream",
     "text": [
      "Help on built-in function zfill:\n",
      "\n",
      "zfill(width, /) method of builtins.str instance\n",
      "    Pad a numeric string with zeros on the left, to fill a field of the given width.\n",
      "    \n",
      "    The string is never truncated.\n",
      "\n"
     ]
    }
   ],
   "source": [
    "help(S.zfill)"
   ]
  },
  {
   "cell_type": "markdown",
   "id": "25abbc13",
   "metadata": {},
   "source": [
    "## Lists\n",
    "\n",
    "> The Python list object is the most general **sequence** provided by the language. Lists are positionally ordered collections of **arbitrarily** typed objects, and they have no fixed size."
   ]
  },
  {
   "cell_type": "code",
   "execution_count": 12,
   "id": "702dcb06",
   "metadata": {},
   "outputs": [],
   "source": [
    "L = [1, 2, 'Python', 2.22, 3.14]"
   ]
  },
  {
   "cell_type": "markdown",
   "id": "e2fd55b9",
   "metadata": {},
   "source": [
    "### Sequence Operations\n",
    "\n",
    "Because they are sequences, lists support all the sequence operations we discussed for strings; the only difference is that the results are usually lists instead of strings"
   ]
  },
  {
   "cell_type": "code",
   "execution_count": 4,
   "id": "55a8c736",
   "metadata": {},
   "outputs": [
    {
     "data": {
      "text/plain": [
       "5"
      ]
     },
     "execution_count": 4,
     "metadata": {},
     "output_type": "execute_result"
    }
   ],
   "source": [
    "len(L)"
   ]
  },
  {
   "cell_type": "code",
   "execution_count": 5,
   "id": "f69fb0d2",
   "metadata": {},
   "outputs": [
    {
     "data": {
      "text/plain": [
       "2"
      ]
     },
     "execution_count": 5,
     "metadata": {},
     "output_type": "execute_result"
    }
   ],
   "source": [
    "L[1]"
   ]
  },
  {
   "cell_type": "code",
   "execution_count": null,
   "id": "2ee5e8ed",
   "metadata": {},
   "outputs": [],
   "source": [
    "L[2:4]"
   ]
  },
  {
   "cell_type": "code",
   "execution_count": null,
   "id": "243c3e37",
   "metadata": {},
   "outputs": [],
   "source": [
    "L[::2]"
   ]
  },
  {
   "cell_type": "code",
   "execution_count": null,
   "id": "5c75bf00",
   "metadata": {},
   "outputs": [],
   "source": [
    "L[::-2]"
   ]
  },
  {
   "cell_type": "markdown",
   "id": "a82abcd6",
   "metadata": {},
   "source": [
    "### List Type-Specific Operations"
   ]
  },
  {
   "cell_type": "markdown",
   "id": "1fbbd51a",
   "metadata": {},
   "source": [
    "#### append\n",
    "\n",
    "append method expands the list’s size and inserts an item at the end"
   ]
  },
  {
   "cell_type": "code",
   "execution_count": 19,
   "id": "ac1728b1",
   "metadata": {},
   "outputs": [
    {
     "data": {
      "text/plain": [
       "[1, 2, 'Python', 2.22, 3.14, 1]"
      ]
     },
     "execution_count": 19,
     "metadata": {},
     "output_type": "execute_result"
    }
   ],
   "source": [
    "L.append(1) \n",
    "L"
   ]
  },
  {
   "cell_type": "markdown",
   "id": "137797b7",
   "metadata": {},
   "source": [
    "#### pop\n",
    "\n",
    "pop method removes an item at a given index and return the value that is removed."
   ]
  },
  {
   "cell_type": "code",
   "execution_count": 20,
   "id": "2b0667e0",
   "metadata": {},
   "outputs": [
    {
     "data": {
      "text/plain": [
       "1"
      ]
     },
     "execution_count": 20,
     "metadata": {},
     "output_type": "execute_result"
    }
   ],
   "source": [
    "L.pop(-1)"
   ]
  },
  {
   "cell_type": "markdown",
   "id": "b7effb61",
   "metadata": {},
   "source": [
    "#### insert\n",
    "\n",
    "insert method insert an item at any given position"
   ]
  },
  {
   "cell_type": "code",
   "execution_count": 15,
   "id": "1c269514",
   "metadata": {},
   "outputs": [
    {
     "data": {
      "text/plain": [
       "[1, 2, 'hello', 'Python', 2.22, 3.14]"
      ]
     },
     "execution_count": 15,
     "metadata": {},
     "output_type": "execute_result"
    }
   ],
   "source": [
    "L.insert(2, 'hello')\n",
    "L"
   ]
  },
  {
   "cell_type": "markdown",
   "id": "82f1ac33",
   "metadata": {},
   "source": [
    "#### remove\n",
    "\n",
    "remove method removes a value in a list."
   ]
  },
  {
   "cell_type": "code",
   "execution_count": 18,
   "id": "da7ae7f4",
   "metadata": {},
   "outputs": [
    {
     "data": {
      "text/plain": [
       "[1, 2, 'Python', 2.22, 3.14]"
      ]
     },
     "execution_count": 18,
     "metadata": {},
     "output_type": "execute_result"
    }
   ],
   "source": [
    "L.remove('hello')\n",
    "L"
   ]
  },
  {
   "cell_type": "markdown",
   "id": "ce22d6e2",
   "metadata": {},
   "source": [
    "#### sort\n",
    "\n",
    "Sort method sort a list. "
   ]
  },
  {
   "cell_type": "code",
   "execution_count": 23,
   "id": "e186b85e",
   "metadata": {},
   "outputs": [
    {
     "name": "stdout",
     "output_type": "stream",
     "text": [
      "Help on built-in function sort:\n",
      "\n",
      "sort(*, key=None, reverse=False) method of builtins.list instance\n",
      "    Sort the list in ascending order and return None.\n",
      "    \n",
      "    The sort is in-place (i.e. the list itself is modified) and stable (i.e. the\n",
      "    order of two equal elements is maintained).\n",
      "    \n",
      "    If a key function is given, apply it once to each list item and sort them,\n",
      "    ascending or descending, according to their function values.\n",
      "    \n",
      "    The reverse flag can be set to sort in descending order.\n",
      "\n"
     ]
    }
   ],
   "source": [
    "help(L.sort)"
   ]
  },
  {
   "cell_type": "code",
   "execution_count": 26,
   "id": "a28a7ab8",
   "metadata": {},
   "outputs": [
    {
     "data": {
      "text/plain": [
       "[1, 2, 3, 5, 6, 7]"
      ]
     },
     "execution_count": 26,
     "metadata": {},
     "output_type": "execute_result"
    }
   ],
   "source": [
    "L_number = [1, 7, 5, 6, 2, 3]\n",
    "L_number.sort()\n",
    "L_number"
   ]
  },
  {
   "cell_type": "code",
   "execution_count": 29,
   "id": "da97cf23",
   "metadata": {
    "scrolled": true
   },
   "outputs": [
    {
     "data": {
      "text/plain": [
       "[7, 6, 5, 3, 2, 1]"
      ]
     },
     "execution_count": 29,
     "metadata": {},
     "output_type": "execute_result"
    }
   ],
   "source": [
    "L_number.sort(reverse=True)\n",
    "L_number"
   ]
  },
  {
   "cell_type": "markdown",
   "id": "02a5824a",
   "metadata": {},
   "source": [
    "#### Nesting\n",
    "\n",
    "You can nest a list in another list"
   ]
  },
  {
   "cell_type": "code",
   "execution_count": 32,
   "id": "f3de4084",
   "metadata": {},
   "outputs": [],
   "source": [
    "M = [[1, 2, 3], [4, 5, 6], [7, 8, 9]]"
   ]
  },
  {
   "cell_type": "markdown",
   "id": "9b88f4c4",
   "metadata": {},
   "source": [
    "#### List Compressions\n",
    "\n",
    "List Compressions is useful if you want to create a new list based on an existing list\n",
    "\n",
    "`newlist = [expression for item (can be anything) in iterable (existing list name) if condition == True]`"
   ]
  },
  {
   "cell_type": "code",
   "execution_count": 30,
   "id": "af2ea317",
   "metadata": {},
   "outputs": [
    {
     "data": {
      "text/plain": [
       "[7, 6, 5]"
      ]
     },
     "execution_count": 30,
     "metadata": {},
     "output_type": "execute_result"
    }
   ],
   "source": [
    "new_L_number = [item for item in L_number if item > 3] # get all the items in L_number that are greater than 3\n",
    "new_L_number"
   ]
  },
  {
   "cell_type": "code",
   "execution_count": 33,
   "id": "a354d031",
   "metadata": {},
   "outputs": [
    {
     "data": {
      "text/plain": [
       "[2, 5, 8]"
      ]
     },
     "execution_count": 33,
     "metadata": {},
     "output_type": "execute_result"
    }
   ],
   "source": [
    "second_item = [stuff[1] for stuff in M] # get the second item from each nested list from M and create a new list\n",
    "second_item"
   ]
  },
  {
   "cell_type": "markdown",
   "id": "7352a437",
   "metadata": {},
   "source": [
    "#### range\n",
    "\n",
    "`range` is a Python built-in that generate successive integers, and requires a surrounding list to display all its values"
   ]
  },
  {
   "cell_type": "code",
   "execution_count": 36,
   "id": "f66d4afe",
   "metadata": {
    "collapsed": true
   },
   "outputs": [
    {
     "name": "stdout",
     "output_type": "stream",
     "text": [
      "Help on class range in module builtins:\n",
      "\n",
      "class range(object)\n",
      " |  range(stop) -> range object\n",
      " |  range(start, stop[, step]) -> range object\n",
      " |  \n",
      " |  Return an object that produces a sequence of integers from start (inclusive)\n",
      " |  to stop (exclusive) by step.  range(i, j) produces i, i+1, i+2, ..., j-1.\n",
      " |  start defaults to 0, and stop is omitted!  range(4) produces 0, 1, 2, 3.\n",
      " |  These are exactly the valid indices for a list of 4 elements.\n",
      " |  When step is given, it specifies the increment (or decrement).\n",
      " |  \n",
      " |  Methods defined here:\n",
      " |  \n",
      " |  __bool__(self, /)\n",
      " |      self != 0\n",
      " |  \n",
      " |  __contains__(self, key, /)\n",
      " |      Return key in self.\n",
      " |  \n",
      " |  __eq__(self, value, /)\n",
      " |      Return self==value.\n",
      " |  \n",
      " |  __ge__(self, value, /)\n",
      " |      Return self>=value.\n",
      " |  \n",
      " |  __getattribute__(self, name, /)\n",
      " |      Return getattr(self, name).\n",
      " |  \n",
      " |  __getitem__(self, key, /)\n",
      " |      Return self[key].\n",
      " |  \n",
      " |  __gt__(self, value, /)\n",
      " |      Return self>value.\n",
      " |  \n",
      " |  __hash__(self, /)\n",
      " |      Return hash(self).\n",
      " |  \n",
      " |  __iter__(self, /)\n",
      " |      Implement iter(self).\n",
      " |  \n",
      " |  __le__(self, value, /)\n",
      " |      Return self<=value.\n",
      " |  \n",
      " |  __len__(self, /)\n",
      " |      Return len(self).\n",
      " |  \n",
      " |  __lt__(self, value, /)\n",
      " |      Return self<value.\n",
      " |  \n",
      " |  __ne__(self, value, /)\n",
      " |      Return self!=value.\n",
      " |  \n",
      " |  __reduce__(...)\n",
      " |      Helper for pickle.\n",
      " |  \n",
      " |  __repr__(self, /)\n",
      " |      Return repr(self).\n",
      " |  \n",
      " |  __reversed__(...)\n",
      " |      Return a reverse iterator.\n",
      " |  \n",
      " |  count(...)\n",
      " |      rangeobject.count(value) -> integer -- return number of occurrences of value\n",
      " |  \n",
      " |  index(...)\n",
      " |      rangeobject.index(value) -> integer -- return index of value.\n",
      " |      Raise ValueError if the value is not present.\n",
      " |  \n",
      " |  ----------------------------------------------------------------------\n",
      " |  Static methods defined here:\n",
      " |  \n",
      " |  __new__(*args, **kwargs) from builtins.type\n",
      " |      Create and return a new object.  See help(type) for accurate signature.\n",
      " |  \n",
      " |  ----------------------------------------------------------------------\n",
      " |  Data descriptors defined here:\n",
      " |  \n",
      " |  start\n",
      " |  \n",
      " |  step\n",
      " |  \n",
      " |  stop\n",
      "\n"
     ]
    }
   ],
   "source": [
    "help(range)"
   ]
  },
  {
   "cell_type": "code",
   "execution_count": 34,
   "id": "06cd0649",
   "metadata": {},
   "outputs": [
    {
     "data": {
      "text/plain": [
       "[0, 1, 2, 3, 4, 5, 6, 7, 8, 9]"
      ]
     },
     "execution_count": 34,
     "metadata": {},
     "output_type": "execute_result"
    }
   ],
   "source": [
    "list(range(10)) # default is start from 0, to 10 (not including)"
   ]
  },
  {
   "cell_type": "code",
   "execution_count": 37,
   "id": "ee4b1f5a",
   "metadata": {},
   "outputs": [
    {
     "data": {
      "text/plain": [
       "[-10, -8, -6, -4, -2, 0, 2, 4, 6, 8]"
      ]
     },
     "execution_count": 37,
     "metadata": {},
     "output_type": "execute_result"
    }
   ],
   "source": [
    "list(range(-10, 10, 2)) # from 1 to 10 (not including) with step of 2"
   ]
  },
  {
   "cell_type": "code",
   "execution_count": 39,
   "id": "ef0e8d6d",
   "metadata": {},
   "outputs": [
    {
     "data": {
      "text/plain": [
       "[[3, 4], [5, 6], [7, 8], [9, 10]]"
      ]
     },
     "execution_count": 39,
     "metadata": {},
     "output_type": "execute_result"
    }
   ],
   "source": [
    "[[item+1, item+2] for item in range(-10, 10, 2) if item > 0]"
   ]
  },
  {
   "cell_type": "markdown",
   "id": "aa3d2cf9",
   "metadata": {},
   "source": [
    "## Tuples\n",
    "\n",
    "The tuple object is roughly like a list that cannot be changed—tuples are sequences, like lists, but they are immutable, like strings."
   ]
  },
  {
   "cell_type": "code",
   "execution_count": 40,
   "id": "d5351d74",
   "metadata": {},
   "outputs": [],
   "source": [
    "T = (1, 2, 3, 4)"
   ]
  },
  {
   "cell_type": "code",
   "execution_count": 41,
   "id": "c5f55f36",
   "metadata": {},
   "outputs": [
    {
     "data": {
      "text/plain": [
       "(1, 2, 3, 4, 2, 3)"
      ]
     },
     "execution_count": 41,
     "metadata": {},
     "output_type": "execute_result"
    }
   ],
   "source": [
    "T + (2, 3)"
   ]
  },
  {
   "cell_type": "code",
   "execution_count": 44,
   "id": "c0ca69ef",
   "metadata": {},
   "outputs": [
    {
     "data": {
      "text/plain": [
       "[1, 2, 'Python', 2.22, 3.14]"
      ]
     },
     "execution_count": 44,
     "metadata": {},
     "output_type": "execute_result"
    }
   ],
   "source": [
    "len(T)"
   ]
  },
  {
   "cell_type": "code",
   "execution_count": 45,
   "id": "6bc81f8c",
   "metadata": {},
   "outputs": [
    {
     "data": {
      "text/plain": [
       "2"
      ]
     },
     "execution_count": 45,
     "metadata": {},
     "output_type": "execute_result"
    }
   ],
   "source": [
    "T[1]"
   ]
  },
  {
   "cell_type": "code",
   "execution_count": 46,
   "id": "e1ac43c1",
   "metadata": {},
   "outputs": [
    {
     "ename": "AttributeError",
     "evalue": "'tuple' object has no attribute 'append'",
     "output_type": "error",
     "traceback": [
      "\u001b[0;31m---------------------------------------------------------------------------\u001b[0m",
      "\u001b[0;31mAttributeError\u001b[0m                            Traceback (most recent call last)",
      "\u001b[0;32m/var/folders/cx/ywyn3zws7f35pcfws3tk23m00000gn/T/ipykernel_6017/873100127.py\u001b[0m in \u001b[0;36m<module>\u001b[0;34m\u001b[0m\n\u001b[0;32m----> 1\u001b[0;31m \u001b[0mT\u001b[0m\u001b[0;34m.\u001b[0m\u001b[0mappend\u001b[0m\u001b[0;34m(\u001b[0m\u001b[0;36m3\u001b[0m\u001b[0;34m)\u001b[0m\u001b[0;34m\u001b[0m\u001b[0;34m\u001b[0m\u001b[0m\n\u001b[0m",
      "\u001b[0;31mAttributeError\u001b[0m: 'tuple' object has no attribute 'append'"
     ]
    }
   ],
   "source": [
    "T.append(3) # error"
   ]
  },
  {
   "cell_type": "markdown",
   "id": "97bb399b",
   "metadata": {},
   "source": [
    "## Dictionaries\n",
    "\n",
    "> Dictionaries are not sequences, but they are known as mappings. Mappings are also collections of other objects, but they store objects by **key** instead of by relative position."
   ]
  },
  {
   "cell_type": "code",
   "execution_count": null,
   "id": "012d50b3",
   "metadata": {},
   "outputs": [],
   "source": []
  },
  {
   "cell_type": "code",
   "execution_count": null,
   "id": "f4e9d8e5",
   "metadata": {},
   "outputs": [],
   "source": []
  },
  {
   "cell_type": "code",
   "execution_count": null,
   "id": "cea5e0e0",
   "metadata": {},
   "outputs": [],
   "source": []
  },
  {
   "cell_type": "markdown",
   "id": "4f53c37a",
   "metadata": {},
   "source": [
    "## Sets"
   ]
  },
  {
   "cell_type": "code",
   "execution_count": null,
   "id": "cb6658f1",
   "metadata": {},
   "outputs": [],
   "source": []
  },
  {
   "cell_type": "code",
   "execution_count": null,
   "id": "7dec5fb3",
   "metadata": {},
   "outputs": [],
   "source": []
  },
  {
   "cell_type": "code",
   "execution_count": null,
   "id": "a53e1e68",
   "metadata": {},
   "outputs": [],
   "source": []
  },
  {
   "cell_type": "code",
   "execution_count": null,
   "id": "8eb119ec",
   "metadata": {},
   "outputs": [],
   "source": []
  },
  {
   "cell_type": "code",
   "execution_count": null,
   "id": "37a31cc2",
   "metadata": {},
   "outputs": [],
   "source": []
  },
  {
   "cell_type": "code",
   "execution_count": null,
   "id": "038818b9",
   "metadata": {},
   "outputs": [],
   "source": []
  },
  {
   "cell_type": "code",
   "execution_count": null,
   "id": "96d513b1",
   "metadata": {},
   "outputs": [],
   "source": []
  },
  {
   "cell_type": "markdown",
   "id": "07765a19",
   "metadata": {},
   "source": [
    "## Mutable and Immutable"
   ]
  }
 ],
 "metadata": {
  "kernelspec": {
   "display_name": "Python 3 (ipykernel)",
   "language": "python",
   "name": "python3"
  },
  "language_info": {
   "codemirror_mode": {
    "name": "ipython",
    "version": 3
   },
   "file_extension": ".py",
   "mimetype": "text/x-python",
   "name": "python",
   "nbconvert_exporter": "python",
   "pygments_lexer": "ipython3",
   "version": "3.9.7"
  }
 },
 "nbformat": 4,
 "nbformat_minor": 5
}
