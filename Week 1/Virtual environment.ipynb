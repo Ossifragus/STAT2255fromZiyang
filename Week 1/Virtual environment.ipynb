{
 "cells": [
  {
   "cell_type": "markdown",
   "metadata": {},
   "source": [
    "# What is Virtual enviroment?\n",
    "A virtual environment is a named, isolated, working copy of Python that that maintains its own files, directories, and paths so that you can work with specific versions of libraries or Python itself without affecting other Python projects."
   ]
  },
  {
   "cell_type": "markdown",
   "metadata": {},
   "source": [
    "# Why do I care?\n",
    "\n",
    "* Python is evolving fast.\n",
    "* Python’s third-party packages are evolving really fast too.\n",
    "* Different versions are not always compatible.\n",
    "\n",
    "## scenario 1\n",
    "\n",
    "* The versions of Python and packages you used in a project may be out of date after a while.\n",
    "* If you update the Python and packages, your previous code may not work under new version (Damn!).\n",
    "\n",
    "## scenario 2\n",
    "\n",
    "* Your project A uses Python 2.7 and package a (v1.0)\n",
    "* Your project B uses Python 3.9 and package a (v2.1)\n",
    "* You can’t use the default Python on your computer system, as well as other packages, which are set to be a certain version.\n",
    "![image](https://miro.medium.com/max/493/1*YB6YkrefMAj7MRn8nzrvXQ.png)\n",
    "\n",
    "## scenario 3\n",
    "\n",
    "* Your co-worker is working on a project and he is using an Python version that is different from yours.\n",
    "* He/she sent the project to you ask for collaboration.\n",
    "* The codes may not work.\n",
    "\n",
    "## scenario 4\n",
    "\n",
    "* Ever wondered why your code works on your laptop fine, but not on your desktop?\n",
    "\n",
    "## and more ...\n"
   ]
  },
  {
   "cell_type": "markdown",
   "metadata": {},
   "source": [
    "# Fix\n",
    "\n",
    "* To fix this, you can use a **virtual enviroment tool** to produce easily sharable virtual enviroment files.\n",
    "* Eeach virtual environment can be conceptualized as a separate box where you have the desired Python version and the required packages for your project.\n",
    "* These boxes are separate such that what you do in one project won’t affect other projects.\n",
    "* It’s always recommended that you create distinct virtual environments for your projects."
   ]
  },
  {
   "cell_type": "markdown",
   "metadata": {},
   "source": [
    "# Setup Virtual Enviroment\n",
    "\n",
    "Although there are many options to use, **Conda** and **Venv** are enviroment managers that are most popular and widely used. Here, we will use the first option. Setting up virtual enviroment using Venv can be found [here](https://realpython.com/python-virtual-environments-a-primer/).\n",
    "\n",
    "**Note**: the codes in the following should be typed in:\n",
    "* Anaconda Prompt (Windows)\n",
    "* Terminal (Mac)\n",
    "\n",
    "## Creating virtual environments\n",
    "\n",
    "First, check out existing virtual enviroments\n",
    "\n",
    "```$ conda env list```\n",
    "\n",
    "You should see only one virtual enviroment call *base*, which is created when you install Anaconda.\n"
   ]
  },
  {
   "cell_type": "markdown",
   "metadata": {},
   "source": [
    "Now, we show several ways to create a virtual enviroment.\n",
    "\n",
    "### 1. Building a new virtual environments\n",
    "\n",
    "```$ conda create -n my_venv python=3.9.7```\n",
    "\n",
    "The above code create an virtual enviroment called *my_venv* with Python version 3.9.7"
   ]
  },
  {
   "cell_type": "markdown",
   "metadata": {},
   "source": [
    "### 2. Creating a virtual environment by cloning\n",
    "\n",
    "```$ conda create -n my_venv_clone --clone my_venv```"
   ]
  },
  {
   "cell_type": "markdown",
   "metadata": {},
   "source": [
    "### 3. Creating a virtual environment from a YAML file\n",
    "\n",
    "```$ conda env create -n my_venv_3 -f environment.yml```"
   ]
  },
  {
   "cell_type": "markdown",
   "metadata": {},
   "source": [
    "## Activating virtual enviroments\n",
    "\n",
    "After the above creation, we have new virtual enviroments. Using `$ conda env list` you can see the new names. The environment that has asterisk indicates the active environment we are in. This means we are still in the base environment. To use the newly created virtual environment, we need to activate it\n",
    "\n",
    "```$ conda activate my_venv```\n",
    "\n",
    "Try `$ conda env list` again to see the effect."
   ]
  },
  {
   "cell_type": "markdown",
   "metadata": {},
   "source": [
    "## Exporting environment specifications to YAML file\n",
    "\n",
    "We can check the specifications of the current environment with:\n",
    "\n",
    "```$ conda list```\n",
    "\n",
    "This will show environment details such as Python version used, package names installed and their versions. To export the specifications of the current environment into a YAML file into the current directory, we can use one of the commands below:\n",
    "\n",
    "```$ conda env export -f environment.yml```"
   ]
  },
  {
   "cell_type": "markdown",
   "metadata": {},
   "source": [
    "## Deactivating virtual environments\n",
    "\n",
    "Once you are done using the virtual environment, if you want to switch back to the base environment, you can use one of the following to deactivate the environment:\n",
    "\n",
    "```$ conda deactivate```"
   ]
  },
  {
   "cell_type": "markdown",
   "metadata": {},
   "source": [
    "## Removing virtual environment\n",
    "\n",
    "After you know you no longer need the virtual environment, you can delete it using the following code (**make sure to it is deactivated first**):\n",
    "\n",
    "```$ conda env remove -n my_venv```\n",
    "\n",
    "```$ conda env remove -n my_venv_clone```\n",
    "\n"
   ]
  },
  {
   "cell_type": "markdown",
   "metadata": {},
   "source": [
    "## Set up for jupyter notebook\n",
    "\n",
    "1. create a new virtual enviroment\n",
    "\n",
    "`$ conda create -n stat2255`\n",
    "\n",
    "2. activate the virtual enviroment\n",
    "\n",
    "`$ conda activate stat2255`\n",
    "\n",
    "3. Install ipykernel and jupyter\n",
    "\n",
    "`$ conda install -c anaconda ipykernel`\n",
    "\n",
    "`$ conda install jupyter`\n",
    "\n",
    "4. Add the stat2255 kernel in jupyter\n",
    "\n",
    "`$ python -m ipykernel install --user --name=stat2255`\n",
    "\n",
    "5. To remove the kernel \n",
    "\n",
    "`$ jupyter kernelspec uninstall stat2255`"
   ]
  },
  {
   "cell_type": "markdown",
   "metadata": {},
   "source": [
    "## Reference\n",
    "[https://towardsdatascience.com/introduction-to-conda-virtual-environments-eaea4ac84e28](https://towardsdatascience.com/introduction-to-conda-virtual-environments-eaea4ac84e28)\n",
    "\n",
    "[https://uoa-eresearch.github.io/eresearch-cookbook/recipe/2014/11/20/conda/](https://uoa-eresearch.github.io/eresearch-cookbook/recipe/2014/11/20/conda/)\n",
    "\n",
    "[https://python.plainenglish.io/virtual-environments-1d09041771d](https://python.plainenglish.io/virtual-environments-1d09041771d)\n",
    "\n",
    "[https://towardsdatascience.com/beginner-friendly-virtual-environment-management-anaconda-pycharm-36178e20129f](https://towardsdatascience.com/beginner-friendly-virtual-environment-management-anaconda-pycharm-36178e20129f)\n",
    "\n"
   ]
  }
 ],
 "metadata": {
  "kernelspec": {
   "display_name": "Python 3 (ipykernel)",
   "language": "python",
   "name": "python3"
  },
  "language_info": {
   "codemirror_mode": {
    "name": "ipython",
    "version": 3
   },
   "file_extension": ".py",
   "mimetype": "text/x-python",
   "name": "python",
   "nbconvert_exporter": "python",
   "pygments_lexer": "ipython3",
   "version": "3.9.7"
  }
 },
 "nbformat": 4,
 "nbformat_minor": 2
}
