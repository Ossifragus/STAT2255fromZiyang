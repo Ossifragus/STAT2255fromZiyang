{
 "cells": [
  {
   "cell_type": "markdown",
   "metadata": {},
   "source": [
    "# Why testing?\n",
    "\n",
    "> Testing your code means writing more code that checks that the behavior\n",
    "matches your expectations.\n",
    "\n",
    "Towards the goal of writing correct code, we use tests to determine two things:\n",
    "1. **Does it work?** That is, does the code do what it's supposed to do?\n",
    "2. **Does it still work?** Can you be confident that the changes you made haven't caused other part of the code to break?"
   ]
  },
  {
   "cell_type": "markdown",
   "metadata": {},
   "source": [
    "# Writting simple testings\n",
    "\n",
    "* You have some idea of what code is supposed to do. \n",
    "* You run the code.\n",
    "* Did it do what you expected? How about some other inputs? \n",
    "* In the simplest case, you could simply add some code to the bottom of the module."
   ]
  },
  {
   "cell_type": "code",
   "execution_count": 1,
   "metadata": {},
   "outputs": [],
   "source": [
    "def my_mean(L):\n",
    "    return sum(L)/len(L)"
   ]
  },
  {
   "cell_type": "code",
   "execution_count": 2,
   "metadata": {},
   "outputs": [],
   "source": [
    "class Power:\n",
    "    def __init__(self, x):\n",
    "        self.x = x\n",
    "    def Pow_function(self, n):\n",
    "        return self.x ** n"
   ]
  },
  {
   "cell_type": "markdown",
   "metadata": {},
   "source": [
    "## Simple testing using ```assert```"
   ]
  },
  {
   "cell_type": "code",
   "execution_count": 3,
   "metadata": {},
   "outputs": [],
   "source": [
    "L1 = [1, 1, 1, 1, 1]\n",
    "L2 = [1, 2, 3, 4, 5]\n",
    "L3 = list(range(1, 101))\n",
    "x1 = Power(2)\n",
    "x2 = Power(3)\n",
    "x3 = Power(5)"
   ]
  },
  {
   "cell_type": "code",
   "execution_count": 4,
   "metadata": {},
   "outputs": [],
   "source": [
    "assert(my_mean(L1) == 1)\n",
    "assert(my_mean(L2) == 3)\n",
    "assert(my_mean(L3) == 50.5)"
   ]
  },
  {
   "cell_type": "code",
   "execution_count": 5,
   "metadata": {},
   "outputs": [],
   "source": [
    "\n",
    "assert(x1.Pow_function(5) == 32)\n",
    "assert(x2.Pow_function(3) == 27)\n",
    "assert(x3.Pow_function(2) == 25)\n"
   ]
  },
  {
   "cell_type": "markdown",
   "metadata": {},
   "source": [
    "Assertions are much better than just printing because you don't have to manually check to see\n",
    "that it printed what you expected it to print."
   ]
  },
  {
   "cell_type": "markdown",
   "metadata": {},
   "source": [
    "# Unit Testing with ```unittest```"
   ]
  },
  {
   "cell_type": "markdown",
   "metadata": {},
   "source": [
    "unit tests are supposed to test a specific behavior of a specific function. This means you will have many tests\n",
    "and you will run them all, every time you change the code.\n",
    "\n",
    "To make the process go smoothly, there is a standard package called\n",
    "**unittest** for writing unit tests in Python. The package provides a standard way to write the tests, the ability to run the tests all together, and the ability to see the results of the tests in a clear format."
   ]
  },
  {
   "cell_type": "markdown",
   "metadata": {},
   "source": [
    "* To use the unittest package, you will want to import the package.\n",
    "* The actual tests will be methods in a class that extends the unittest.TestCase class.\n",
    "* Every test method must start with the word **test**. If it doesn't start with **test**, then it will not run. \n",
    "* Tests are run by calling the function ```unittest.main(argv=['first-arg-is-ignored'], exit=False)```."
   ]
  },
  {
   "cell_type": "code",
   "execution_count": 6,
   "metadata": {},
   "outputs": [],
   "source": [
    "class Phone:\n",
    "    def __init__(self, user_name, color, size):\n",
    "        self.user_name = user_name\n",
    "        self.color = color\n",
    "        self.size = size\n",
    "        self.apps = []\n",
    "        self._password = None\n",
    "    def show_user_name(self):\n",
    "        print(\"The User name is\", self.user_name)\n",
    "    def Download_app(self, app_name):\n",
    "        self.apps.append(app_name)\n",
    "    def Uninstall_app(self, app_name):\n",
    "        self.apps.remove(app_name)\n",
    "    def set_password(self, old_password = None, new_password = None):\n",
    "        if self._password == old_password:\n",
    "            self._password = new_password\n",
    "        else:\n",
    "            print(\"Old Password not match!\")\n",
    "    def __le__(self, a):\n",
    "        return self.size <= a.size\n",
    "    def __ge__(self, a):\n",
    "        return self.size >= a.size\n",
    "    def __eq__(self, a):\n",
    "        return self.size == a.size\n",
    "    def __ne__(self, a):\n",
    "        return self.size != a.size\n",
    "    def __lt__(self, a):\n",
    "        return self.size < a.size\n",
    "    def __gt__(self, a):\n",
    "        return self.size > a.size\n",
    "    def __str__(self):\n",
    "        return \"user_name => {}, color => {}\".format(self.user_name, self.color)"
   ]
  },
  {
   "cell_type": "code",
   "execution_count": 7,
   "metadata": {},
   "outputs": [],
   "source": [
    "class Account:\n",
    "    def __init__(self, initial_amount, minimum, interest_rate):\n",
    "        if (initial_amount < minimum):\n",
    "            raise ValueError(\"When creating this account, the initial amount must be >= {}.\".format(minimum))\n",
    "        self._id = str(uuid.uuid4())[:5]\n",
    "        self._minimum       = minimum\n",
    "        self._amount_held   = initial_amount\n",
    "        self._min_ever_held = initial_amount\n",
    "        self._interest_rate = interest_rate\n",
    "        self._good_standing = True   \n",
    "        self._is_active     = True\n",
    "\n",
    "    def get_amount_held(self):\n",
    "        return self._amount_held\n",
    "\n",
    "    def get_minimum(self):\n",
    "        return self._minimum\n",
    "\n",
    "    def get_min_ever_held(self):\n",
    "        return self._min_ever_held\n",
    "\n",
    "    def get_interest_rate(self):\n",
    "        return self._interest_rate\n",
    "\n",
    "    def is_in_good_standing(self):\n",
    "        return self._good_standing\n",
    "\n",
    "    def is_active(self):\n",
    "        return self._is_active;\n",
    "\n",
    "    def withdraw(self, w_amount):\n",
    "        if (w_amount > self._amount_held):\n",
    "            raise ValueError(\"Cannot withdraw more than you have.\")\n",
    "        self._amount_held = self._amount_held - w_amount\n",
    "        if (self._amount_held < self._minimum):\n",
    "            self._good_standing = False;\n",
    "\n",
    "        if (self._amount_held < self._min_ever_held):\n",
    "            self._min_ever_held = self._amount_held\n",
    "\n",
    "    def deposit(self, amount):\n",
    "        self._amount_held += amount;\n",
    "        if (self._amount_held >= self._minimum):\n",
    "            self._good_standing = True\n",
    "\n",
    "    def close_account(self):\n",
    "        self._is_active = False;\n",
    "        self._amount_held += self._min_ever_held * self._interest_rate\n",
    "        return self._amount_held"
   ]
  },
  {
   "cell_type": "code",
   "execution_count": 8,
   "metadata": {},
   "outputs": [],
   "source": [
    "import uuid\n",
    "import unittest\n",
    "class TestMyCode(unittest.TestCase):\n",
    "    def testPhoneColor(self):\n",
    "        user_phone1 = Phone(\"user1\", \"black\", 6.1)\n",
    "        user_phone2 = Phone(\"user2\", \"red\", 5.0)\n",
    "        self.assertEqual(user_phone1.color, 'black')\n",
    "        self.assertEqual(user_phone2.color, 'red')\n",
    "    def testPhoneComparator(self):\n",
    "        user_phone1 = Phone(\"user1\", \"black\", 6.1)\n",
    "        user_phone2 = Phone(\"user2\", \"red\", 5.0)\n",
    "        self.assertEqual(user_phone1 > user_phone2, False)\n",
    "        self.assertEqual(user_phone1 == user_phone2, False)\n",
    "        self.assertEqual(user_phone1 != user_phone2, True)\n",
    "    def testPhoneDownload(self):\n",
    "        user_phone1 = Phone(\"user1\", \"black\", 6.1)\n",
    "        user_phone2 = Phone(\"user2\", \"red\", 5.0)\n",
    "        self.assertEqual(user_phone1.apps, [])\n",
    "        user_phone1.Download_app(\"Twitter\")\n",
    "        user_phone1.Download_app(\"Youtube\")\n",
    "        user_phone2.Download_app(\"Facebook\")\n",
    "        self.assertEqual(user_phone1.apps, [\"Twitter\", \"Youtube\"])\n",
    "        self.assertEqual(user_phone2.apps, [\"Facebook\"])\n",
    "    def testPhoneUninstall(self):\n",
    "        user_phone1 = Phone(\"user1\", \"black\", 6.1)\n",
    "        user_phone2 = Phone(\"user2\", \"red\", 5.0)\n",
    "        user_phone1.Download_app(\"Twitter\")\n",
    "        user_phone1.Download_app(\"Youtube\")\n",
    "        user_phone1.Uninstall_app(\"Youtube\")\n",
    "        self.assertEqual(user_phone1.apps, [\"Twitter\"])\n",
    "    def testAccountget_amount_held(self):\n",
    "        account1 = Account(1000, 500, 0.1)\n",
    "        self.assertEqual(account1.get_amount_held(), 1000)\n",
    "    def testAccountwithdraw(self):\n",
    "        account1 = Account(1000, 500, 0.1)\n",
    "        account1.withdraw(300)\n",
    "        account1.withdraw(300)\n",
    "        self.assertEqual(account1.get_amount_held(), 400)\n",
    "        with self.assertRaises(ValueError):\n",
    "            account1.withdraw(500)\n",
    "    def testAccountis_in_good_standing(self):\n",
    "        account1 = Account(1000, 500, 0.1)\n",
    "        account1.withdraw(300)\n",
    "        account1.withdraw(300)\n",
    "        self.assertEqual(account1.is_in_good_standing(), False)\n",
    "    def testAccountdeposit(self):\n",
    "        account1 = Account(1000, 500, 0.1)\n",
    "        account1.deposit(300)\n",
    "        self.assertEqual(account1.get_amount_held(), 1300)\n",
    "    def testAccountclose(self):\n",
    "        account1 = Account(1000, 500, 0.1)\n",
    "        account1.withdraw(300)\n",
    "        account1.deposit(200)\n",
    "        self.assertEqual(account1.close_account(), 900+700*account1.get_interest_rate())"
   ]
  },
  {
   "cell_type": "code",
   "execution_count": 9,
   "metadata": {
    "scrolled": true
   },
   "outputs": [
    {
     "name": "stderr",
     "output_type": "stream",
     "text": [
      "......F..\n",
      "======================================================================\n",
      "FAIL: testPhoneComparator (__main__.TestMyCode)\n",
      "----------------------------------------------------------------------\n",
      "Traceback (most recent call last):\n",
      "  File \"C:\\Users\\Ziyang\\AppData\\Local\\Temp/ipykernel_21980/2066219537.py\", line 12, in testPhoneComparator\n",
      "    self.assertEqual(user_phone1 > user_phone2, False)\n",
      "AssertionError: True != False\n",
      "\n",
      "----------------------------------------------------------------------\n",
      "Ran 9 tests in 0.011s\n",
      "\n",
      "FAILED (failures=1)\n"
     ]
    },
    {
     "data": {
      "text/plain": [
       "<unittest.main.TestProgram at 0x27b414f9460>"
      ]
     },
     "execution_count": 9,
     "metadata": {},
     "output_type": "execute_result"
    }
   ],
   "source": [
    "unittest.main(argv=['first-arg-is-ignored'], exit=False)"
   ]
  },
  {
   "cell_type": "markdown",
   "metadata": {},
   "source": [
    "# Test-Driven Development"
   ]
  },
  {
   "cell_type": "markdown",
   "metadata": {},
   "source": [
    "> Test-Driven Development (TDD) is based on the simple idea that you\n",
    "can write the tests before you write the code."
   ]
  },
  {
   "cell_type": "markdown",
   "metadata": {},
   "source": [
    "* Decide how you want to be able to use some function. What should the parameters be? What should it return?\n",
    "*  Write only the code that you need. If there is code that doesn't support some desired behavior with tests, then you don't need to write it."
   ]
  },
  {
   "cell_type": "markdown",
   "metadata": {},
   "source": [
    "1. Red: The tests fail. They better! You haven't written the code yet!\n",
    "2. Green: You get the tests to pass by changing the code.\n",
    "3. Refactor: You clean up the code, removing duplication."
   ]
  },
  {
   "cell_type": "code",
   "execution_count": 10,
   "metadata": {},
   "outputs": [
    {
     "name": "stdout",
     "output_type": "stream",
     "text": [
      "<class 'list'>\n",
      "<class 'dict'>\n",
      "<class 'tuple'>\n"
     ]
    }
   ],
   "source": [
    "a = []\n",
    "b = {}\n",
    "c = ()\n",
    "print(type(a))\n",
    "print(type(b))\n",
    "print(type(c))"
   ]
  }
 ],
 "metadata": {
  "kernelspec": {
   "display_name": "Python 3 (ipykernel)",
   "language": "python",
   "name": "python3"
  },
  "language_info": {
   "codemirror_mode": {
    "name": "ipython",
    "version": 3
   },
   "file_extension": ".py",
   "mimetype": "text/x-python",
   "name": "python",
   "nbconvert_exporter": "python",
   "pygments_lexer": "ipython3",
   "version": "3.9.7"
  }
 },
 "nbformat": 4,
 "nbformat_minor": 2
}
