{
 "cells": [
  {
   "cell_type": "markdown",
   "metadata": {},
   "source": [
    "# Homework 2\n",
    "\n",
    "* Due 10/14 23:59 pm est\n",
    "* Following instructions provided in **Homework submission instructions**\n",
    "* Do not use any external modules on this assignment"
   ]
  },
  {
   "cell_type": "markdown",
   "metadata": {},
   "source": [
    "## Problem 1 (30pts)\n",
    "\n",
    "For this problem, you will create a **Point** class that can be used to generated any point in the cartesian coordinate. The followings are the attributes and methods that should be implemented in the **Point**:\n",
    "\n",
    "* ```__init__``` (already done): To initialize a point object, you need to specify the x and y coordinates and assign to ```self.x``` and ```self.y``` attributes.\n",
    "* Comparators methods:\n",
    "    * Support the comparators < (```__lt__```), >(```__gt__```), and ==(```__eq__```).\n",
    "    * p1 is less than p2 if its distance from the origin is less.\n",
    "    * p1 is greater than p2 if its distance from the origin is greater.\n",
    "    * p1 and p2 are equal if they are the same distance from the origin.\n",
    "* ```dist_from_origin``` method:\n",
    "    * Returns the cartesian distance of this point from the origin\n"
   ]
  },
  {
   "cell_type": "code",
   "execution_count": null,
   "metadata": {},
   "outputs": [],
   "source": [
    "class Point:\n",
    "    def __init__(self, x, y):\n",
    "        self.x = x\n",
    "        self.y = y\n",
    "    "
   ]
  },
  {
   "cell_type": "markdown",
   "metadata": {},
   "source": [
    "## Problem 2 (50pts)\n",
    "\n",
    "We have seen how to construct the **CheckingAccount** in the class. In this problem, you will construct the **SavingAccount**. Similar to the CheckingAccount class, since SavingAccount **is a** Account, so it should have all the attributes and methods defined for Account class. In addition, it should also have it's unique attributes and methods:\n",
    "\n",
    "* The interest_rate for saving account is 10%.\n",
    "* The minimum for saving account is 1000.\n",
    "* Since rewards of a savings account were greater than those of a checking account, the bank allowed only one withdrawal from a savings account.\n",
    "* When customer close the account, to reward the savings account owners, the bank added additional bonus of 15% (calculated off of the minimum amount held throughout the year) PLUS a fixed amount of 100 . Hence, for example, if the holdings were, 1000, 800, 1200, the owner of a savings account got 1200 + 800 x 0.1 + 800 x 0.15 + 100 = 1500."
   ]
  },
  {
   "cell_type": "markdown",
   "metadata": {},
   "source": [
    "## Requirements:\n",
    "\n",
    "Your SavingAccount class should satisfy the followings:\n",
    "\n",
    "* ```__init__```: \n",
    "    * To initialize a SavingAccount object, we need to specify (Already done):\n",
    "        * initial_amount\n",
    "        * max_num_withdrawals (default: 1)\n",
    "        * minimum (default: 1000)\n",
    "        * interest_rate (default: 0.1)\n",
    "        * bonus_contribution (default: 0.15)\n",
    "    * Inherit all the attributes and methods from its super class Account (Already done).\n",
    "    * Additional attributes that are unique to SavingAccount:\n",
    "        * self._num_withdrawals (set to 0 when initializing)\n",
    "        * self._max_num_withdrawals \n",
    "        * self._bonus_contribution\n",
    "* ```get_num_withdrawals``` method:\n",
    "    * Return the number of withdrawals.\n",
    "* ```withdraw``` method: \n",
    "    * Override the withdraw method from its super class.\n",
    "* ```add_bonus``` method: \n",
    "    * Increase the amount held by (percent bonus contribution) * (minimal amount ever held) + 100.\n",
    "* ```close_account``` method:\n",
    "    * Override the close_account method from its super class."
   ]
  },
  {
   "cell_type": "markdown",
   "metadata": {},
   "source": [
    "## Remark\n",
    "* import uuid module using ```import uuid```.\n",
    "* import Account class from the module named \"Account\" using ```from Account import Account``` (Make sure to put the Account.py file in the same folder as your homeowork file). \n",
    "* Use the chunk below to design you **SavingAccount** class. The comments are served as instructions for each methods. Use those instructions and insert you code right below each comment."
   ]
  },
  {
   "cell_type": "code",
   "execution_count": null,
   "metadata": {},
   "outputs": [],
   "source": [
    "import uuid\n",
    "from Account import Account\n",
    "class SavingAccount(Account):\n",
    "    def __init__(self, initial_amount, max_num_withdrawals=1,\n",
    "                 minimum=1000, interest_rate=0.10,\n",
    "                 bonus_contribution=0.15):\n",
    "        super().__init__(initial_amount, minimum, interest_rate)\n",
    "\n",
    "        # 1) Set the number of withdrawals to 0 (only SavingsAccounts track the number\n",
    "        #    of withdrawals\n",
    "\n",
    "        # 2) Set the _max_num_withdrawals attribute to the value given in the argument\n",
    "        #    of the constructor\n",
    "\n",
    "        # 3) Set the _bonus_contribution to the value given in the argument of\n",
    "        #    the constructor\n",
    "\n",
    "\n",
    "    def get_num_withdrawals(self):\n",
    "        # Simply return the number of withdrawals\n",
    "\n",
    "\n",
    "    def withdraw(self, w_amount):\n",
    "        # 1) If the number of withdrawals is >= than the maximal number of\n",
    "        #    withdrawals allowed throw and exception:\n",
    "        #    raise ValueError(\"Savings accounts allow only {} withdrawals.\".format(self._max_num_withdrawals))\n",
    "\n",
    "        # 2) Increase the withdrawal counter by 1\n",
    "\n",
    "        # 3) Call the parent's implementation of withdraw as it does the rest of\n",
    "        #    things for us\n",
    "        #\n",
    "\n",
    "\n",
    "    def add_bonus(self):\n",
    "        # According to the banks rewards scheme, increase the amount held by the\n",
    "        # (percent bonus contribution) * (minimal amount ever held) + 100\n",
    "\n",
    "\n",
    "    def close_account(self):\n",
    "        # 1) Add bonus\n",
    "\n",
    "        # 2) Call the parent's close_account method as it does lots of stuff already\n",
    "        #    return super().close_account()  \n",
    "                                              \n"
   ]
  },
  {
   "cell_type": "markdown",
   "metadata": {},
   "source": [
    "# Problem 3 (20 pts)\n",
    "\n",
    "For All the methods you defined in above, write a test to test they do what you expect them to do. For example, to test the ```__lt__``` method defined in Point class, we can do the following. "
   ]
  },
  {
   "cell_type": "code",
   "execution_count": null,
   "metadata": {},
   "outputs": [],
   "source": [
    "import unittest\n",
    "class TestMyCode(unittest.TestCase):\n",
    "    def testComparatorlt(self):\n",
    "        point1 = Point(3, 4)\n",
    "        point2 = Point(1, 2)\n",
    "        self.assertEqual(point1<point2, False)"
   ]
  },
  {
   "cell_type": "markdown",
   "metadata": {},
   "source": [
    "## Requirements\n",
    "\n",
    "* Define you own test inside the above class to test othr methods you have written in Problem 1 and 2.\n",
    "* Create one test for each method."
   ]
  }
 ],
 "metadata": {
  "kernelspec": {
   "display_name": "Python 3 (ipykernel)",
   "language": "python",
   "name": "python3"
  },
  "language_info": {
   "codemirror_mode": {
    "name": "ipython",
    "version": 3
   },
   "file_extension": ".py",
   "mimetype": "text/x-python",
   "name": "python",
   "nbconvert_exporter": "python",
   "pygments_lexer": "ipython3",
   "version": "3.9.7"
  }
 },
 "nbformat": 4,
 "nbformat_minor": 2
}
