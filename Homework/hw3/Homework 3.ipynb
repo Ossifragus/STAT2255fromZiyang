{
 "cells": [
  {
   "cell_type": "markdown",
   "metadata": {},
   "source": [
    "# Homework 3\n",
    "\n",
    "* Due 11/11 23:59 pm est\n",
    "* Following instructions provided in **Homework submission instructions**"
   ]
  },
  {
   "cell_type": "markdown",
   "metadata": {},
   "source": [
    "# Problem 1 (15 points)\n",
    "\n",
    "## part (a)\n",
    "\n",
    "For the function define below, calculate the exact number of atomic operations that are needed as function of n (where n is the length of input list L). Please give explainations for every term."
   ]
  },
  {
   "cell_type": "code",
   "execution_count": null,
   "metadata": {},
   "outputs": [],
   "source": [
    "def f(L):\n",
    "    newlist = []\n",
    "    for i in L: \n",
    "        if i % 2 == 0:\n",
    "            newlist.append(i)\n",
    "    return newlist "
   ]
  },
  {
   "cell_type": "markdown",
   "metadata": {},
   "source": [
    "**Hint**: \n",
    "1. Creating a empty list costs 1 atomic operation.\n",
    "2. Focus on the worst case scenario."
   ]
  },
  {
   "cell_type": "markdown",
   "metadata": {},
   "source": [
    "## part (b)\n",
    "\n",
    "What is the running time if use Big-O notation?"
   ]
  },
  {
   "cell_type": "markdown",
   "metadata": {},
   "source": [
    "# Problem 2 (25 points)\n",
    "\n",
    "## part (a)\n",
    "\n",
    "To check if there is any duplicates in a list, we have covered 3 different solutions. Can you come up with a solution that is more efficient than them?"
   ]
  },
  {
   "cell_type": "code",
   "execution_count": null,
   "metadata": {},
   "outputs": [],
   "source": []
  },
  {
   "cell_type": "markdown",
   "metadata": {},
   "source": [
    "## part (b)\n",
    "\n",
    "For ```n = [800, 1600, 3200, 6400, 12800]```, use the timetrials function we defined in the notebook, calculate the running time for **duplicates2** and your function to verify that your function is indeed more efficient."
   ]
  },
  {
   "cell_type": "code",
   "execution_count": null,
   "metadata": {},
   "outputs": [],
   "source": []
  },
  {
   "cell_type": "markdown",
   "metadata": {},
   "source": [
    "# Problem 3 (30 points)\n",
    "\n",
    "The idea of Fixed point algorithm and its procedures are given in the note. Write a function to implement the Fixed-point algorithm."
   ]
  },
  {
   "cell_type": "code",
   "execution_count": null,
   "metadata": {},
   "outputs": [],
   "source": []
  },
  {
   "cell_type": "markdown",
   "metadata": {},
   "source": [
    "# Problem 4 (30 points)\n",
    "\n",
    "The Cauchy($\\theta$,1) distribution has the following probability density function\n",
    "\n",
    "$$f(x\\,|\\,\\theta) = \\frac{1}{\\pi[1+(x-\\theta)^2]},$$\n",
    "where $\\theta$ is the unknown parameter. \n",
    "\n",
    "Suppose $x_1$, $x_2$, $\\dots$, $x_n$ are observed independent sample from the Cauchy distribution, then the loglikelihood function for the data can be written as:\n",
    "\n",
    "$$\\ell(\\theta) = -n\\log \\pi - \\sum_{i=1}^n \\log (1+(x_i-\\theta)^2).$$\n",
    "\n",
    "The maximum likelihood estimator (mle) for $\\theta$, denoted as $\\theta_0$, is then the solution of the following equation\n",
    "\n",
    "$$f(\\theta) = \\frac{d\\ell(\\theta)}{d\\theta} = -2\\sum_{i=1}^n \\frac{\\theta-x_i}{1+(\\theta-x_i)^2} = 0.$$\n",
    "\n",
    "\n",
    "Then, the root finding techniques we have learned can be used here. Essentially, we are looking for $\\theta_0$ such that $f(\\theta_0) = 0$. \n"
   ]
  },
  {
   "cell_type": "markdown",
   "metadata": {},
   "source": [
    "## Part (a)\n",
    "\n",
    "Now, suppose our observed data $x_i$'s are defined in a list called data such that:"
   ]
  },
  {
   "cell_type": "code",
   "execution_count": 1,
   "metadata": {},
   "outputs": [],
   "source": [
    "data = [-2.44, 3.29, 3.71, -2.40, 4.53, -0.07, -1.05, -13.87, -2.53,\n",
    "        -1.75, 3.30, 1.77, -0.23, 2.76, 3.80, 3.47, 56.75, -1.34, 4.24]"
   ]
  },
  {
   "cell_type": "markdown",
   "metadata": {},
   "source": [
    "Given the data, the log-likelihood function can be shown in the following plot. Use the **newton method** you wrote during the class, find the maximizer for the function below.\n",
    "\n",
    "![loglikelihood](loglikelihood.png)\n",
    "\n",
    "**Hint**:\n",
    "\n",
    "1. The newton method requires the derivate of function $f$, $f'$. The expression for $f'$ is given below:\n",
    "\n",
    "$$f'(\\theta) = -2\\sum_{i=1}^n \\frac{1-(\\theta-x_i)^2}{[1+(\\theta-x_i)^2]^2}$$\n",
    "\n",
    "2. Given the $x_i$'s in list called data, if you want to write a function such that\n",
    "\n",
    "$$g(\\theta) = \\sum_{i=1}^n (\\theta-x_i)^2,$$ one possible way is\n",
    "\n",
    "```\n",
    "\n",
    "def g(theta):\n",
    "    return(sum([(theta-x)**2 for x in data]))\n",
    "```\n",
    "\n",
    "3. SET **init = 4** and set **max_iter = 100**."
   ]
  },
  {
   "cell_type": "code",
   "execution_count": null,
   "metadata": {},
   "outputs": [],
   "source": []
  },
  {
   "cell_type": "markdown",
   "metadata": {},
   "source": [
    "## Part (b)\n",
    "\n",
    "Use the **Fixed point** method you wrote in problem 3, find the root for the function above.\n",
    "\n",
    "**Hint**:\n",
    "\n",
    "1. set **alpha = 0.25**.\n",
    "\n",
    "2. set **init = 4**.\n",
    "\n",
    "3. set **max_iter = 100**."
   ]
  },
  {
   "cell_type": "code",
   "execution_count": null,
   "metadata": {},
   "outputs": [],
   "source": []
  }
 ],
 "metadata": {
  "kernelspec": {
   "display_name": "Python 3 (ipykernel)",
   "language": "python",
   "name": "python3"
  },
  "language_info": {
   "codemirror_mode": {
    "name": "ipython",
    "version": 3
   },
   "file_extension": ".py",
   "mimetype": "text/x-python",
   "name": "python",
   "nbconvert_exporter": "python",
   "pygments_lexer": "ipython3",
   "version": "3.9.7"
  }
 },
 "nbformat": 4,
 "nbformat_minor": 2
}
