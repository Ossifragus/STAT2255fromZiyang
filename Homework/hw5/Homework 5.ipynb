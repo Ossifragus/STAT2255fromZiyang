{
 "cells": [
  {
   "cell_type": "markdown",
   "metadata": {},
   "source": [
    "# Homework 5\n",
    "\n",
    "* Due 12/09 23:59 pm est\n",
    "* Following instructions provided in **Homework submission instructions**"
   ]
  },
  {
   "cell_type": "markdown",
   "metadata": {},
   "source": [
    "# Problem 1 (40 pts)\n",
    "\n",
    "A professor measured the time (in seconds) required to catch a falling yard stick for 12 randomly selected students' dominant hand and nondominant hand.  The professor claims that the reaction time in an individual’s dominant hand is less than the reaction time in their nondominant hand.  Test the claim at the $\\alpha$ = 0.05 level of significance.\n",
    "\n",
    "\n",
    "<table border=\"1\" class=\"dataframe\">\n",
    "  <thead>\n",
    "    <tr style=\"text-align: left;\">\n",
    "      <th>Student</th>\n",
    "      <th>Dominent Hand, $x_1$</th>\n",
    "      <th>Nondominent Hand, $x_2$</th>\n",
    "    </tr>\n",
    "  </thead>\n",
    "  <tbody>\n",
    "    <tr>\n",
    "      <th>1</th>\n",
    "      <td>0.177</td>\n",
    "      <td>0.179</td>\n",
    "    </tr>\n",
    "    <tr>\n",
    "      <th>2</th>\n",
    "      <td>0.210</td>\n",
    "      <td>0.202</td>\n",
    "    </tr>\n",
    "    <tr>\n",
    "      <th>3</th>\n",
    "      <td>0.189</td>\n",
    "      <td>0.184</td>\n",
    "    </tr>\n",
    "    <tr>\n",
    "      <th>4</th>\n",
    "      <td>0.198</td>\n",
    "      <td>0.215</td>\n",
    "    </tr>\n",
    "    <tr>\n",
    "      <th>5</th>\n",
    "      <td>0.194</td>\n",
    "      <td>0.193</td>\n",
    "    </tr>\n",
    "    <tr>\n",
    "      <th>6</th>\n",
    "      <td>0.160</td>\n",
    "      <td>0.194</td>\n",
    "    </tr>\n",
    "    <tr>\n",
    "      <th>7</th>\n",
    "      <td>0.163</td>\n",
    "      <td>0.160</td>\n",
    "    </tr>\n",
    "    <tr>\n",
    "      <th>8</th>\n",
    "      <td>0.166</td>\n",
    "      <td>0.209</td>\n",
    "    </tr>\n",
    "      <tr>\n",
    "      <th>9</th>\n",
    "      <td>0.152</td>\n",
    "      <td>0.164</td>\n",
    "    </tr>\n",
    "      <tr>\n",
    "      <th>10</th>\n",
    "      <td>0.190</td>\n",
    "      <td>0.210</td>\n",
    "    </tr>\n",
    "      <tr>\n",
    "      <th>11</th>\n",
    "      <td>0.172</td>\n",
    "      <td>0.197</td>\n",
    "    </tr>\n",
    "      <tr>\n",
    "      <th>12</th>\n",
    "      <td>0.186</td>\n",
    "      <td>0.208</td>\n",
    "    </tr>\n",
    "  </tbody>\n",
    "</table>\n",
    "</div>"
   ]
  },
  {
   "cell_type": "markdown",
   "metadata": {},
   "source": [
    "## Part 1 - 10 pts\n",
    "\n",
    "What is the null and alternative hypothesis?"
   ]
  },
  {
   "cell_type": "markdown",
   "metadata": {},
   "source": [
    "Let $\\mu_1$ be the population average reaction time for the dominant hand, and $\\mu_2$ be the population average reaction time for the nondominant hand.\n",
    "$$H_0: \\mu_1 = \\mu_2 \\rightarrow d = 0$$\n",
    "$$H_1: \\mu_1 < \\mu_2 \\rightarrow d < 0$$"
   ]
  },
  {
   "cell_type": "markdown",
   "metadata": {},
   "source": [
    "## Part 2 - 10 pts\n",
    "\n",
    "What is the correct test to perform? Is the underlying assumption satisfied? If not, check the assumptions."
   ]
  },
  {
   "cell_type": "markdown",
   "metadata": {},
   "source": [
    "1. **Paired t test**, since two population are dependent.\n",
    "\n",
    "2. With a small sample size of 12, it is necessary to check the normality assumption (on d)."
   ]
  },
  {
   "cell_type": "code",
   "execution_count": 1,
   "metadata": {},
   "outputs": [
    {
     "data": {
      "text/plain": [
       "ShapiroResult(statistic=0.9432522654533386, pvalue=0.5413171052932739)"
      ]
     },
     "execution_count": 1,
     "metadata": {},
     "output_type": "execute_result"
    }
   ],
   "source": [
    "import scipy.stats as scs\n",
    "import statsmodels.stats.api as sms\n",
    "import pandas as pd\n",
    "dominant = pd.Series([0.177, 0.210, 0.189, 0.198, 0.194, 0.16, 0.163, 0.166, 0.152, 0.19, 0.172, 0.186])\n",
    "nondominant = pd.Series([0.179, 0.202, 0.184, 0.215, 0.193, 0.194, 0.16, 0.209, 0.164, 0.210, 0.197,0.208])\n",
    "d = dominant-nondominant\n",
    "scs.shapiro(d)"
   ]
  },
  {
   "cell_type": "markdown",
   "metadata": {},
   "source": [
    "## Part 3 - 20 pts\n",
    "\n",
    "Conduct the test to test the claim."
   ]
  },
  {
   "cell_type": "code",
   "execution_count": 2,
   "metadata": {},
   "outputs": [
    {
     "name": "stdout",
     "output_type": "stream",
     "text": [
      "The test statistics is -2.7759, and the p value is 0.009.\n"
     ]
    }
   ],
   "source": [
    "t_score, p_value = scs.ttest_1samp(d, popmean=0, alternative='less')\n",
    "print('The test statistics is {}, and the p value is {}.'.format(float(t_score.round(4)), float(p_value.round(4))))"
   ]
  },
  {
   "cell_type": "markdown",
   "metadata": {},
   "source": [
    "# Problem 2 (40 pts)\n",
    "\n",
    "## Part 1 - 10 pts\n",
    "\n",
    "Suppose you would like to simulate the experiment of flipping a coin that gives head with probability $p$ and tail with probability $1-p$. Write a function that simulate this coin flipping experiment.\n",
    "\n",
    "**Note**: Your function shoud take $p$ as input and return either \"head\" or \"tail\". "
   ]
  },
  {
   "cell_type": "code",
   "execution_count": 3,
   "metadata": {},
   "outputs": [],
   "source": [
    "import numpy as np\n",
    "def random_coin(p):\n",
    "    U = np.random.uniform()\n",
    "    if U < p:\n",
    "        return \"head\"\n",
    "    else:\n",
    "        return \"tail\""
   ]
  },
  {
   "cell_type": "markdown",
   "metadata": {},
   "source": [
    "## Part 2 - 10 pts\n",
    "\n",
    "Specify a value of $p$, say $0.3$, create a list that contains 1000 flips of such coin. Use the list, create a barplot for \"head\" and \"tail\". Does the number of heads and tails make sense for the $p$ you specify?"
   ]
  },
  {
   "cell_type": "code",
   "execution_count": 4,
   "metadata": {},
   "outputs": [
    {
     "data": {
      "text/plain": [
       "<AxesSubplot:>"
      ]
     },
     "execution_count": 4,
     "metadata": {},
     "output_type": "execute_result"
    },
    {
     "data": {
      "image/png": "[encoded data removed]",
      "text/plain": [
       "<Figure size 432x288 with 1 Axes>"
      ]
     },
     "metadata": {
      "needs_background": "light"
     },
     "output_type": "display_data"
    }
   ],
   "source": [
    "coins = [random_coin(0.3) for i in range(1000)]\n",
    "pd.Series(coins).value_counts().plot.bar(rot = 0)"
   ]
  },
  {
   "cell_type": "markdown",
   "metadata": {},
   "source": [
    "## Part 3 - 20 pts\n",
    "\n",
    "The number of head in 1 flip is actually the so-called Bernoulli random variable with parameter $p$, which is a special case of the Binomial variable $Bin(1, p)$. For Bernoulli and Binomial random variables, we have the following relationship:\n",
    "\n",
    "If $X_1$, $X_2$, $\\dots$, $X_n$ are independent Bernoulli random variable from $Bernoulli(p)$, then $\\sum_{i=1}^n X_i \\sim Bin(n, p)$.\n",
    "\n",
    "Now, use the function you write in part 1, generate another function that return the number of head in $n$ flips, which is a Binomial random variable.\n",
    "\n",
    "**Note**: Your function should take 2 arguments as inputs ($n$, $p$), and return the number of head in $n$ flips."
   ]
  },
  {
   "cell_type": "code",
   "execution_count": 5,
   "metadata": {},
   "outputs": [],
   "source": [
    "def random_binomial(n, p):\n",
    "    coins = [random_coin(p) for i in range(n)]\n",
    "    return coins.count(\"head\")"
   ]
  },
  {
   "cell_type": "markdown",
   "metadata": {},
   "source": [
    "# Problem 3 (20 pts)\n",
    "\n",
    "Suppose there is 365 days, denote 1-365, in a year and the chance of getting born in each day is the same. Write a function to generate a birthday for a random person. \n",
    "\n",
    "**Note**: The birthday of a random person is a discrete random variable that has the following distribution\n",
    "<table border=\"1\" class=\"dataframe\">\n",
    "  <thead>\n",
    "    <tr style=\"text-align: left;\">\n",
    "      <th>Birthday ($x_i$)</th>\n",
    "      <th>$P$</th>\n",
    "    </tr>\n",
    "  </thead>\n",
    "  <tbody>\n",
    "    <tr>\n",
    "      <th>1</th>\n",
    "      <td>$\\frac{1}{365}$</td>\n",
    "    </tr>\n",
    "    <tr>\n",
    "      <th>2</th>\n",
    "      <td>$\\frac{1}{365}$</td>\n",
    "    </tr>\n",
    "    <tr>\n",
    "      <th>3</th>\n",
    "      <td>$\\frac{1}{365}$</td>\n",
    "    </tr>\n",
    "    <tr>\n",
    "      <th>4</th>\n",
    "      <td>$\\vdots$</td>\n",
    "    </tr>\n",
    "    <tr>\n",
    "      <th>363</th>\n",
    "      <td>$\\frac{1}{365}$</td>\n",
    "    </tr>\n",
    "    <tr>\n",
    "      <th>364</th>\n",
    "      <td>$\\frac{1}{365}$</td>\n",
    "    </tr>\n",
    "    <tr>\n",
    "      <th>365</th>\n",
    "      <td>$\\frac{1}{365}$</td>\n",
    "    </tr>\n",
    "  </tbody>\n",
    "</table>\n",
    "</div>"
   ]
  },
  {
   "cell_type": "code",
   "execution_count": 6,
   "metadata": {},
   "outputs": [],
   "source": [
    "def birthday():\n",
    "    birthday = 1\n",
    "    U = np.random.uniform()\n",
    "    while U > 1/365:\n",
    "        U = U - 1/365\n",
    "        birthday += 1\n",
    "    return birthday"
   ]
  }
 ],
 "metadata": {
  "kernelspec": {
   "display_name": "Python 3 (ipykernel)",
   "language": "python",
   "name": "python3"
  },
  "language_info": {
   "codemirror_mode": {
    "name": "ipython",
    "version": 3
   },
   "file_extension": ".py",
   "mimetype": "text/x-python",
   "name": "python",
   "nbconvert_exporter": "python",
   "pygments_lexer": "ipython3",
   "version": "3.9.7"
  }
 },
 "nbformat": 4,
 "nbformat_minor": 2
}
