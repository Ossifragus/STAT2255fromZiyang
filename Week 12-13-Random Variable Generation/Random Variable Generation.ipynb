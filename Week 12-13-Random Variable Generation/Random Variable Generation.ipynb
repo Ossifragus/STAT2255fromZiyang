{
 "cells": [
  {
   "cell_type": "markdown",
   "metadata": {},
   "source": [
    "# Motivation\n",
    "\n",
    "Informally, **random variables** are possible outcomes of experiments. For example, let $X$ be the number of head in 3 tosses of a fair coin. Then, \n",
    "\n",
    "* The values of the random variable are random before the experiment. ($X$ can be $0, 1, 2,$ or $3$).\n",
    "* Each possible value is associated with a probability, which tells you how likely is the corresponding event. (e.g. 1/8, 3/8, 3/8, 1/8).\n",
    "* The possible values and associated probabilities together form the distribution of the random variable.\n",
    "\n",
    "When calculating some quantities with respect to random variables, giving an exact answer sometime can be tedius:\n",
    "\n",
    "* In a shuffled deck, what is the probability that at least one of the top two cards is an ace?\n",
    "\n",
    "* In a shuffled deck, what is the probability that a 5 card hand contains at least one card of each suit?\n",
    "\n",
    "* In our class, what is the probability that at least two persons share the same birth?\n",
    "\n",
    "* If a random variable $X$ is from a arbitrary distribution. What is $E(X)$? $E(X^2)$? $E\\left(\\frac{3X^2}{1+X^2}\\right)$?\n",
    "\n",
    "\n",
    "For the above questions, although there exist exact answers, some are easy to calculate, some are not. Instead of calculating the exact answers, we can run simulations to approximate those answer. The key is how to generate the random variables from the corresponding experiment, or distribution. "
   ]
  },
  {
   "cell_type": "markdown",
   "metadata": {},
   "source": [
    "# Random Variable Generation\n",
    "\n",
    "To begin with, we assume that There exists a perfect uniform(0, 1) random variable generator, i.e. a generator capable of produclng a sequence $U_1$, $U_2$, $\\dots$, of Independent random variables from Uniform(0,1). For us, we will use ```random.uniform``` method from numpy package. the The question is how to use them to simulate other random variables.\n",
    "\n",
    "In this Notebook, we will go over some common algorithms that allow us to do this.\n",
    "\n",
    "* The inversion method.\n",
    "\n",
    "* The rejection method.\n",
    "\n"
   ]
  },
  {
   "cell_type": "markdown",
   "metadata": {},
   "source": [
    "# Inversion method\n",
    "\n",
    "## Definitions\n",
    "\n",
    "For a random variable X, the distribution function ($F$), also refered as Cumulative distribution function (cdf) is defined as:\n",
    "\n",
    "$$F(x) = P(X\\le x) = \\sum_{x_i\\le x} p(x_i),\\ \\text{ or }\\ F(x) = P(X\\le x) = \\int_{-\\infty}^x f(y) dy.$$\n",
    "\n",
    "where $P(x_i)$ is the probability mass function (discrete), and $f(x) = F'(x)$ is the probability density function (continuous). A distribution is completely specified when its distribution function is given.\n",
    "\n",
    "### Continuous random variable\n",
    "\n",
    "Define $F^{-1}$ be the inverse function of $F$ such that:\n",
    "\n",
    "$$F^{-1}(u) = inf\\{x: F(x) = u, 0\\le u\\le 1\\}.$$\n",
    "\n",
    "The inversion method is applies to random variables taking values in $\\mathbb{R}$ and it is based upon the following theorem:\n",
    "\n",
    "## Theorem\n",
    "\n",
    "> If $U\\sim Uniform(0,1)$, then random variable $F^{-1}(U)$ is a random variable that has distribution function F.\n",
    "\n",
    "Why?\n",
    "\n",
    "\n",
    "## Procedure\n",
    "\n",
    "Using the above theorem, for a random variable X with distribution function $F$, provided $F^{-1}$ is explicitly known, we can generate X by:\n",
    "\n",
    "1. Generate $U\\sim Uniform(0,1)$.\n",
    "\n",
    "2. return $F^{-1}(U)$.\n",
    "\n",
    "\n",
    "## Example: Exponential Random Variable\n",
    "\n",
    "For exponential distribution with parameter $\\theta>0$, denoted as $Exp(\\theta)$, the distribution is \n",
    "\n",
    "$$F(x) = 1-e^{-x/\\theta}, \\ x\\ge 0.$$\n",
    "\n",
    "The pdf is \n",
    "\n",
    "$$f(x) = \\frac{1}{\\theta}e^{-\\frac{x}{\\theta}}.$$\n",
    "\n",
    "Then, \n",
    "\n",
    "$$F^{-1}(u) = -\\theta \\ln (1-u), \\text{ for } u\\in [0,1].$$\n",
    "\n",
    "So, if we want to generate random variable from $Exp(\\theta)$:\n",
    "\n",
    "1. Generate $U\\sim Uniform(0,1)$.\n",
    "\n",
    "2. return $-\\theta \\ln (1-U)$, or $-\\theta \\ln U$ (why?)."
   ]
  },
  {
   "cell_type": "code",
   "execution_count": 1,
   "metadata": {},
   "outputs": [],
   "source": [
    "import numpy as np\n",
    "# use theta=1\n",
    "def random_exp(theta = 1):\n",
    "    U = np.random.uniform()\n",
    "    return(-theta*np.log(1-U))\n"
   ]
  },
  {
   "cell_type": "code",
   "execution_count": 2,
   "metadata": {},
   "outputs": [],
   "source": [
    "Exp = [random_exp() for i in range(1000)]"
   ]
  },
  {
   "cell_type": "code",
   "execution_count": 3,
   "metadata": {},
   "outputs": [],
   "source": [
    "Exp1 = np.random.exponential(scale = 1, size = 1000)"
   ]
  },
  {
   "cell_type": "code",
   "execution_count": 4,
   "metadata": {},
   "outputs": [
    {
     "data": {
      "text/plain": [
       "<matplotlib.legend.Legend at 0x240c5e92730>"
      ]
     },
     "execution_count": 4,
     "metadata": {},
     "output_type": "execute_result"
    },
    {
     "data": {
      "image/png": "[encoded data removed]",
      "text/plain": [
       "<Figure size 720x576 with 1 Axes>"
      ]
     },
     "metadata": {
      "needs_background": "light"
     },
     "output_type": "display_data"
    }
   ],
   "source": [
    "import matplotlib.pyplot as plt\n",
    "plt.figure(figsize=(10,8))\n",
    "plt.hist(Exp, alpha=0.5, label=\"data1\")\n",
    "plt.hist(Exp1, alpha=0.5, label=\"data2\")\n",
    "plt.legend(fontsize = 'x-large')"
   ]
  },
  {
   "cell_type": "markdown",
   "metadata": {},
   "source": [
    "## Numerical evaluation of $F^{-1}$\n",
    "\n",
    "If $F^{-1}$ is not known explicitly, the inverse method is still applicable by numerical evaluation of $F^{-1}$.\n",
    "\n",
    "Given $F$ is continuous and differentialable, computing $F^{-1}(u)$ is equivalent to find the root x such that $F(x)-u = 0$.\n",
    "\n",
    "We can use the Newton's method to find $F^{-1}(u)$ using\n",
    "\n",
    "$$x_{n+1} = x_n-\\frac{F(x_n)-u}{f(x_n)}.$$\n",
    "\n",
    "When converge, we have $x_n \\rightarrow F^{-1}(u)$."
   ]
  },
  {
   "cell_type": "code",
   "execution_count": 5,
   "metadata": {},
   "outputs": [],
   "source": [
    "def exp_F(x, theta=1):\n",
    "    return 1-np.exp(-x/theta)\n",
    "\n",
    "def exp_f(x, theta=1):\n",
    "    return (1/theta)*np.exp(-x/theta)"
   ]
  },
  {
   "cell_type": "code",
   "execution_count": 6,
   "metadata": {},
   "outputs": [],
   "source": [
    "def inv_function(u, F, f, init, theta, eps = 10**(-7), maxit = 100):\n",
    "    old_value = init\n",
    "    for i in range(maxit):\n",
    "        try:\n",
    "            new_value = old_value - (F(old_value, theta)-u)/f(old_value, theta)\n",
    "        except ZeroDivisionError:\n",
    "            print(\"Zero division\")\n",
    "            return None\n",
    "        if abs(new_value-old_value) < eps:\n",
    "            return new_value\n",
    "        old_value = new_value\n",
    "    print(\"Fail to converge\")"
   ]
  },
  {
   "cell_type": "code",
   "execution_count": 7,
   "metadata": {},
   "outputs": [],
   "source": [
    "def random_exp2(theta = 1):\n",
    "    U = np.random.uniform()\n",
    "    return (inv_function(U, exp_F, exp_f, 0, theta))"
   ]
  },
  {
   "cell_type": "code",
   "execution_count": 8,
   "metadata": {},
   "outputs": [],
   "source": [
    "Exp2 = np.array([random_exp2() for i in range(1000)])"
   ]
  },
  {
   "cell_type": "code",
   "execution_count": 9,
   "metadata": {},
   "outputs": [
    {
     "data": {
      "text/plain": [
       "<matplotlib.legend.Legend at 0x240c83b2970>"
      ]
     },
     "execution_count": 9,
     "metadata": {},
     "output_type": "execute_result"
    },
    {
     "data": {
      "image/png": "[encoded data removed]",
      "text/plain": [
       "<Figure size 720x576 with 1 Axes>"
      ]
     },
     "metadata": {
      "needs_background": "light"
     },
     "output_type": "display_data"
    }
   ],
   "source": [
    "plt.figure(figsize=(10,8))\n",
    "plt.hist(Exp, alpha=0.5, label=\"data1\")\n",
    "plt.hist(Exp1, alpha=0.5, label=\"data2\")\n",
    "plt.legend(fontsize = 'x-large')"
   ]
  },
  {
   "cell_type": "markdown",
   "metadata": {},
   "source": [
    "## Example: Gamma Random Variable\n",
    "\n",
    "The exponential distribution is a special case of gamma distribution such that if $X\\sim Exp(\\theta)$, $X\\sim Gamma(1, \\theta)$. The Gamma distribution has the following property:\n",
    "\n",
    "* If $X_1\\sim Gamma (\\alpha_1, \\theta)$, $X_2\\sim Gamma (\\alpha_2, \\theta)$, $\\dots,$, $\\sum_{i=1}^n X_i \\sim Gamma(\\sum_{i=1}^n \\alpha_i, \\theta)$.\n",
    "\n",
    "* If $X\\sim Gamma (\\alpha, \\theta)$, $c X \\sim Gamma(\\alpha, c\\theta)$.\n",
    "\n",
    "Using the above fact, we can generate random variable from gamma distribution."
   ]
  },
  {
   "cell_type": "code",
   "execution_count": 10,
   "metadata": {},
   "outputs": [],
   "source": [
    "def random_gamma(alpha=1, theta=1):\n",
    "    exp = [random_exp(theta) for i in range(alpha)]\n",
    "    return sum(exp)"
   ]
  },
  {
   "cell_type": "code",
   "execution_count": 11,
   "metadata": {
    "scrolled": false
   },
   "outputs": [
    {
     "data": {
      "text/plain": [
       "<matplotlib.legend.Legend at 0x240c8287a90>"
      ]
     },
     "execution_count": 11,
     "metadata": {},
     "output_type": "execute_result"
    },
    {
     "data": {
      "image/png": "[encoded data removed]",
      "text/plain": [
       "<Figure size 720x576 with 1 Axes>"
      ]
     },
     "metadata": {
      "needs_background": "light"
     },
     "output_type": "display_data"
    }
   ],
   "source": [
    "gamma1 = [random_gamma(2, 3) for i in range(5000)]\n",
    "gamma2 = np.random.gamma(2, 3, size = 5000)\n",
    "plt.figure(figsize=(10,8))\n",
    "plt.hist(gamma1, alpha=0.5, label=\"data1\", bins = 10)\n",
    "plt.hist(gamma2, alpha=0.5, label=\"data2\", bins = 10)\n",
    "plt.legend(fontsize = 'x-large')"
   ]
  },
  {
   "cell_type": "markdown",
   "metadata": {},
   "source": [
    "## Example: Laplace Random Variable\n",
    "\n",
    "The Laplace distribution has the following density function (pdf):\n",
    "\n",
    "$$f(x) = \\frac{1}{2}e^{-|x|},\\ \\text{ for } x\\in \\mathbb{R} = \\begin{cases}\\frac{1}{2}e^{-x}, & x\\ge 0\\\\ \\frac{1}{2}e^{x}, & x <0\\end{cases}. $$\n",
    "\n",
    "It can be shown that if $X$ has Laplace distribution, $|X|\\sim Exp(1)$. So, if we let $T = |X|$, given $T = t$, $X$ can only take two possible values $t$, or $-t$, each with probability 0.5. We can use this fact to generate random variable from Laplace distribution:\n",
    "\n",
    "1. Generate $T\\sim Exp(1)$ and $U\\sim Uniform(0,1)$. \n",
    "2. \n",
    "    * return $T$ if $U>0.5$.\n",
    "    * return $-T$ if $U \\le 0.5$.\n",
    "    \n",
    "In this case, joint density function of $(U, X)$ is \n",
    "\n",
    "$$f(u, t) = \\begin{cases}e^{-x}, & u> 0.5, x \\ge0\\\\ e^{x}, & u \\le 0.5, x < 0\\end{cases}. $$\n",
    "\n",
    "Integrate out u, we have $f(x)$ is the same as the pdf above."
   ]
  },
  {
   "cell_type": "code",
   "execution_count": 12,
   "metadata": {},
   "outputs": [],
   "source": [
    "def random_Laplace():\n",
    "    T = random_exp()\n",
    "    U = np.random.uniform()\n",
    "    return (T**(U>0.5)*(-T)**(U<=0.5))"
   ]
  },
  {
   "cell_type": "markdown",
   "metadata": {},
   "source": [
    "### Discrete Random Variable\n",
    "\n",
    "Discrete random variable can be generated from a comparable way. Suppose we have a discrete random variable $X$ with support $\\mathcal{S} = \\{x_1, x_2, \\dots, x_n\\}$ with associated probabilities $p_1, p_2, \\dots, p_n$, such that:\n",
    "\n",
    "<table border=\"1\" class=\"dataframe\">\n",
    "  <thead>\n",
    "    <tr style=\"text-align: right;\">\n",
    "      <th>$X$</th>\n",
    "      <th>$P(X=x_i)$</th>\n",
    "    </tr>\n",
    "  </thead>\n",
    "  <tbody>\n",
    "    <tr style=\"text-align: right;\">\n",
    "      <td>$x_1$</td>\n",
    "      <td>$p_1$</td>\n",
    "    </tr>\n",
    "    <tr style=\"text-align: right;\">\n",
    "      <td>$x_2$</td>\n",
    "      <td>$p_2$</td>\n",
    "    </tr>\n",
    "    <tr style=\"text-align: right;\">\n",
    "      <td>$\\vdots$</td>\n",
    "      <td>$\\vdots$</td>\n",
    "    </tr>\n",
    "    <tr style=\"text-align: right;\">\n",
    "      <td>$x_n$</td>\n",
    "      <td>$p_n$</td>\n",
    "    </tr>\n",
    "  </tbody>\n",
    "</table>\n",
    "\n",
    "Recall \n",
    "\n",
    "$$F(x_j) = \\sum_{i\\le j}P(x_i)$$\n",
    "\n",
    "we can split the interval $[0, 1]$ into $[0, F(x_1))$, $[F(x_1), F(x_2))$, $\\dots$, $[F(x_n), 1]$.\n",
    "\n",
    "Then, for $U\\sim Uniform(0,1)$\n",
    "$$P(F(x_{j-1})\\le U < F(x_{j})) = F(x_{j})-F(x_{j-1}) = P(X = x_j),$$\n",
    "\n",
    "where $F(x_0) = 0$.\n",
    "\n",
    "Then, the procedure to generate a discrete random variable can be done as follows:\n",
    "\n",
    "1. Sample $U\\sim Uniform(0,1)$.\n",
    "2. return $x_j$ if $F(x_{j-1})\\le U < F(x_{j})$."
   ]
  },
  {
   "cell_type": "code",
   "execution_count": 13,
   "metadata": {},
   "outputs": [],
   "source": [
    "def discrete_random(X, P):\n",
    "    index = 0\n",
    "    U = np.random.uniform()\n",
    "    p_i = P[index]\n",
    "    while U > p_i:\n",
    "        U = U-p_i\n",
    "        index += 1\n",
    "        p_i = P[index]\n",
    "    return X[index]"
   ]
  },
  {
   "cell_type": "markdown",
   "metadata": {},
   "source": [
    "### Example: generating a birthday\n",
    "\n",
    "Assume we have 365 days in a year and the chance of born in each day is the same. How do we generate a birthday of a person?"
   ]
  },
  {
   "cell_type": "code",
   "execution_count": 14,
   "metadata": {},
   "outputs": [],
   "source": [
    "def birthday_random():\n",
    "    pass"
   ]
  },
  {
   "cell_type": "markdown",
   "metadata": {},
   "source": [
    "## Rejection method\n",
    "\n",
    "Suppose the goal is to generate a random variable that has pdf $f$ defined on $\\mathcal{X}$. The basic version of rejection algorithm assumes \n",
    "* there exist a density function $g$ defined on $\\mathcal{X}$ which we know how to generate samples (easily). \n",
    "* Also, $g$ has the property that for some constant $c>0$, \n",
    "\n",
    "$$f(x) \\le cg(x), \\ \\text{ for all } x\\in \\mathcal{X}.$$\n",
    "\n",
    "In this case, the $g$ density is called the \"instrumental\" density and $cg(x)$ is known as an envelope.\n",
    "\n",
    "The procesure to generate a random variable from $f$ can be done by:\n",
    "\n",
    "1. Sample $X\\sim g$, and $U\\sim Uniform(0,1)$.\n",
    "2. \n",
    "    * accept and return X if $U \\le f(X)/(cg(X))$.\n",
    "    * else, go to step 1."
   ]
  },
  {
   "cell_type": "markdown",
   "metadata": {},
   "source": [
    "### Example\n",
    "\n",
    "Suppose we would like to generate a random variable that has the following density function\n",
    "\n",
    "$$f(x) = 1-|x|, x\\in [0,1] = \\begin{cases}x+1, & -1\\le x < 0\\\\ -x+1, & 0\\le x \\le 1 \\\\ 0, & elsewhere\\end{cases}.$$\n",
    "\n",
    "In this case, we can let g to be the Uniform(-1, 1) and $c = 2$, such that $f(x) \\le cg(x) = 1$ for all x."
   ]
  },
  {
   "cell_type": "code",
   "execution_count": 15,
   "metadata": {},
   "outputs": [
    {
     "data": {
      "text/plain": [
       "<matplotlib.legend.Legend at 0x240c84293a0>"
      ]
     },
     "execution_count": 15,
     "metadata": {},
     "output_type": "execute_result"
    },
    {
     "data": {
      "image/png": "[encoded data removed]",
      "text/plain": [
       "<Figure size 720x576 with 1 Axes>"
      ]
     },
     "metadata": {
      "needs_background": "light"
     },
     "output_type": "display_data"
    }
   ],
   "source": [
    "import matplotlib.pyplot as plt\n",
    "plt.figure(figsize=(10,8))\n",
    "plt.plot([-1, 0, 1], [0, 1, 0], label = \"f(x)\")\n",
    "plt.plot([-1, 0, 1], [1, 1, 1], color = 'r', label = \"cg(x)\")\n",
    "plt.plot([-1, -1], [1, 0], color = 'r', linestyle = '--')\n",
    "plt.plot([1, 1], [0, 1], color = 'r', linestyle = '--')\n",
    "plt.plot([-1, 1], [0.5, 0.5], color = 'k', linestyle = '--', label = 'g(x)')\n",
    "plt.legend(fontsize = 'x-large')"
   ]
  },
  {
   "cell_type": "code",
   "execution_count": 16,
   "metadata": {},
   "outputs": [],
   "source": [
    "def random_triangle():\n",
    "    c = 2\n",
    "    while True:\n",
    "        U = np.random.uniform()\n",
    "        X = np.random.uniform(-1, 1)\n",
    "        if U*c*0.5 <= (1-abs(X)):\n",
    "            return X"
   ]
  },
  {
   "cell_type": "code",
   "execution_count": 17,
   "metadata": {},
   "outputs": [
    {
     "data": {
      "text/plain": [
       "<matplotlib.legend.Legend at 0x240c8452820>"
      ]
     },
     "execution_count": 17,
     "metadata": {},
     "output_type": "execute_result"
    },
    {
     "data": {
      "image/png": "[encoded data removed]",
      "text/plain": [
       "<Figure size 720x576 with 1 Axes>"
      ]
     },
     "metadata": {
      "needs_background": "light"
     },
     "output_type": "display_data"
    }
   ],
   "source": [
    "import numpy as np\n",
    "import matplotlib.pyplot as plt\n",
    "triangle = [random_triangle() for i in range(5000)]\n",
    "plt.figure(figsize=(10,8))\n",
    "plt.hist(triangle, label=\"tringle distribution\", bins = 10)\n",
    "plt.legend(fontsize = 'x-large')"
   ]
  },
  {
   "cell_type": "markdown",
   "metadata": {},
   "source": [
    "### Remark\n",
    "\n",
    "In the above algorithms, other values of $c$ also works as long as $c\\ge 2$. However, since our accepting rule is accecpt when $U \\le f(X)/(cg(X))$. So, as $c$ gets larger and larger, the chance of accepting is lower and we will need more iterations until accept. \n",
    "\n",
    "So, the rule is to set $c$ to be\n",
    "\n",
    "$$c = sup_{x}\\frac{f(x)}{g(x)}.$$"
   ]
  },
  {
   "cell_type": "code",
   "execution_count": 18,
   "metadata": {},
   "outputs": [],
   "source": [
    "def random_triangle(c = 2):\n",
    "    itr = 0\n",
    "    while True:\n",
    "        U = np.random.uniform()\n",
    "        X = np.random.uniform(-1, 1)\n",
    "        if U*c*0.5 <= (1-abs(X)):\n",
    "            return X, itr\n",
    "        itr += 1"
   ]
  },
  {
   "cell_type": "code",
   "execution_count": 19,
   "metadata": {},
   "outputs": [
    {
     "name": "stdout",
     "output_type": "stream",
     "text": [
      "Average number of iterations until accept when c = 2 is 1.0156\n",
      "Average number of iterations until accept when c = 10 is 8.8792\n"
     ]
    }
   ],
   "source": [
    "triangle2 = [random_triangle()[1] for i in range(5000)] # c = 2\n",
    "triangle10 = [random_triangle(c = 10)[1] for i in range(5000)] # c = 10\n",
    "\n",
    "print(\"Average number of iterations until accept when c = 2 is {}\".format(sum(triangle2)/len(triangle2)))\n",
    "print(\"Average number of iterations until accept when c = 10 is {}\".format(sum(triangle10)/len(triangle10)))"
   ]
  },
  {
   "cell_type": "markdown",
   "metadata": {},
   "source": [
    "### Example: Generating Normal random variable\n",
    "\n",
    "When using the rejection method, the domin of $f(x)$ and $g(x)$ should be the same.\n",
    "\n",
    "Suppose we would like to generate random variable from a standard normal distribution. We know if $X\\sim N(0,1)$, the density function $f(x)$ has the following form:\n",
    "\n",
    "$$f(x) = \\frac{1}{\\sqrt{2\\pi}}e^{-\\frac{x^2}{2}},\\ x\\in \\mathbb{R}.$$\n",
    "\n",
    "The distribution is symmetric and $x\\in \\mathbb{R}$. Since we know the Laplace distribution is also symmetric with support $\\mathbb{R}$, we can use it as the instrumental density to generate normal random variable.\n",
    "\n",
    "Since \n",
    "\n",
    "$$\\frac{1}{2}(|x|-1)^2 = \\frac{x^2}{2}+\\frac{1}{2}-|x|\\ge 0,$$\n",
    "\n",
    "$$\\frac{1}{\\sqrt{2\\pi}}e^{-\\frac{x^2}{2}}\\le \\frac{1}{\\sqrt{2\\pi}}e^{\\frac{1}{2}-|x|} = cg(x)$$,\n",
    "\n",
    "where $g(x) = 1/2e^{-|x|}$ is the Laplace density and $c = \\sqrt{2e/\\pi}$.\n",
    "\n",
    "So, to generate standard normal random variable, we can use the following procedure:\n",
    "\n",
    "1. generating $T\\sim Exp(1)$ and $U$ and $V$ are two independent random variable from $Uniform(0,1)$. Let $X$ is generating from Laplace distribution.\n",
    "\n",
    "2. \n",
    "    * return $X$ if $\\frac{1}{\\sqrt{2\\pi}}e^{\\frac{1}{2}-|X|}V \\le \\frac{1}{\\sqrt{2\\pi}}e^{-\\frac{X^2}{2}}$ (Can be simplified).\n",
    "    * else, go back to step 1."
   ]
  },
  {
   "cell_type": "code",
   "execution_count": 20,
   "metadata": {},
   "outputs": [],
   "source": [
    "def random_normal(mu=0, sigma=1):\n",
    "    while True:\n",
    "        V = np.random.uniform()\n",
    "        X = random_Laplace()\n",
    "        if ((1/((2*np.pi)**0.5))*np.exp(0.5-abs(X)))*V <= ((1/((2*np.pi)**0.5))*np.exp(-X**2/2)):\n",
    "            return sigma*X+mu\n",
    "    \n",
    "    "
   ]
  },
  {
   "cell_type": "code",
   "execution_count": 21,
   "metadata": {},
   "outputs": [
    {
     "data": {
      "text/plain": [
       "<matplotlib.legend.Legend at 0x240c84c7550>"
      ]
     },
     "execution_count": 21,
     "metadata": {},
     "output_type": "execute_result"
    },
    {
     "data": {
      "image/png": "[encoded data removed]",
      "text/plain": [
       "<Figure size 720x576 with 1 Axes>"
      ]
     },
     "metadata": {
      "needs_background": "light"
     },
     "output_type": "display_data"
    }
   ],
   "source": [
    "norm1 = [random_normal() for i in range(5000)]\n",
    "norm2 = np.random.normal(size = 5000)\n",
    "plt.figure(figsize=(10,8))\n",
    "plt.hist(norm1, alpha=0.5, label=\"data1\", bins = 10)\n",
    "plt.hist(norm2, alpha=0.5, label=\"data2\", bins = 10)\n",
    "plt.legend()"
   ]
  }
 ],
 "metadata": {
  "kernelspec": {
   "display_name": "Python 3 (ipykernel)",
   "language": "python",
   "name": "python3"
  },
  "language_info": {
   "codemirror_mode": {
    "name": "ipython",
    "version": 3
   },
   "file_extension": ".py",
   "mimetype": "text/x-python",
   "name": "python",
   "nbconvert_exporter": "python",
   "pygments_lexer": "ipython3",
   "version": "3.9.7"
  }
 },
 "nbformat": 4,
 "nbformat_minor": 2
}
